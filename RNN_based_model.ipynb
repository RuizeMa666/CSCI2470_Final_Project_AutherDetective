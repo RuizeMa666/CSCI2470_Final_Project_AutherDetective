{
 "cells": [
  {
   "cell_type": "code",
   "execution_count": 5,
   "metadata": {},
   "outputs": [
    {
     "name": "stderr",
     "output_type": "stream",
     "text": [
      "[nltk_data] Downloading package wordnet to\n",
      "[nltk_data]     C:\\Users\\marti\\AppData\\Roaming\\nltk_data...\n",
      "[nltk_data]   Package wordnet is already up-to-date!\n",
      "[nltk_data] Downloading package punkt to\n",
      "[nltk_data]     C:\\Users\\marti\\AppData\\Roaming\\nltk_data...\n",
      "[nltk_data]   Package punkt is already up-to-date!\n"
     ]
    }
   ],
   "source": [
    "# Import libraries for data handling\n",
    "import pandas as pd\n",
    "import numpy as np\n",
    "import nltk\n",
    "from nltk.stem import WordNetLemmatizer\n",
    "from collections import Counter\n",
    "import matplotlib.pyplot as plt\n",
    "import seaborn as sns\n",
    "from sklearn.preprocessing import StandardScaler\n",
    "import torch\n",
    "import torch.nn as nn\n",
    "from torch.utils.data import Dataset, DataLoader\n",
    "from torchtext.vocab import Vocab, build_vocab_from_iterator, GloVe\n",
    "from torchtext.data.utils import get_tokenizer\n",
    "nltk.download('wordnet')  # Needed for the WordNetLemmatizer\n",
    "nltk.download('punkt')    # Needed for tokenization\n",
    "lemmatizer = WordNetLemmatizer()\n",
    "\n"
   ]
  },
  {
   "cell_type": "code",
   "execution_count": 6,
   "metadata": {},
   "outputs": [
    {
     "data": {
      "text/plain": [
       "True"
      ]
     },
     "execution_count": 6,
     "metadata": {},
     "output_type": "execute_result"
    }
   ],
   "source": [
    "torch.cuda.is_available()\n"
   ]
  },
  {
   "cell_type": "code",
   "execution_count": 7,
   "metadata": {},
   "outputs": [],
   "source": [
    "train_df = pd.read_csv(r'C:\\Deep-Learning-based-Authorship-Identification\\project\\my_train_7030_1.csv')\n",
    "test_df = pd.read_csv(r'C:\\Deep-Learning-based-Authorship-Identification\\project\\my_test_7030_1.csv')"
   ]
  },
  {
   "cell_type": "code",
   "execution_count": 9,
   "metadata": {},
   "outputs": [],
   "source": [
    "df = pd.concat([train_df, test_df], ignore_index=True)"
   ]
  },
  {
   "cell_type": "code",
   "execution_count": 10,
   "metadata": {},
   "outputs": [
    {
     "data": {
      "text/html": [
       "<div>\n",
       "<style scoped>\n",
       "    .dataframe tbody tr th:only-of-type {\n",
       "        vertical-align: middle;\n",
       "    }\n",
       "\n",
       "    .dataframe tbody tr th {\n",
       "        vertical-align: top;\n",
       "    }\n",
       "\n",
       "    .dataframe thead th {\n",
       "        text-align: right;\n",
       "    }\n",
       "</style>\n",
       "<table border=\"1\" class=\"dataframe\">\n",
       "  <thead>\n",
       "    <tr style=\"text-align: right;\">\n",
       "      <th></th>\n",
       "      <th>text</th>\n",
       "      <th>author_num</th>\n",
       "    </tr>\n",
       "  </thead>\n",
       "  <tbody>\n",
       "    <tr>\n",
       "      <th>0</th>\n",
       "      <td>What can I recall of her during the past six m...</td>\n",
       "      <td>22</td>\n",
       "    </tr>\n",
       "    <tr>\n",
       "      <th>1</th>\n",
       "      <td>“How is Monsieur’s arm?” replied Basque. “Bett...</td>\n",
       "      <td>21</td>\n",
       "    </tr>\n",
       "    <tr>\n",
       "      <th>2</th>\n",
       "      <td>It drags hard; I guess he’s holding on. Jerk h...</td>\n",
       "      <td>10</td>\n",
       "    </tr>\n",
       "    <tr>\n",
       "      <th>3</th>\n",
       "      <td>Bless you, _they_ ain't got noth'n' to complai...</td>\n",
       "      <td>15</td>\n",
       "    </tr>\n",
       "    <tr>\n",
       "      <th>4</th>\n",
       "      <td>On leaving Omaha, it passes along the left ban...</td>\n",
       "      <td>12</td>\n",
       "    </tr>\n",
       "    <tr>\n",
       "      <th>...</th>\n",
       "      <td>...</td>\n",
       "      <td>...</td>\n",
       "    </tr>\n",
       "    <tr>\n",
       "      <th>2295</th>\n",
       "      <td>Up here were only dark, bare rock slopes and t...</td>\n",
       "      <td>9</td>\n",
       "    </tr>\n",
       "    <tr>\n",
       "      <th>2296</th>\n",
       "      <td>\"Oh, Harry, we were sure you were going to -- ...</td>\n",
       "      <td>11</td>\n",
       "    </tr>\n",
       "    <tr>\n",
       "      <th>2297</th>\n",
       "      <td>I han’t seen a way to get you safe, and I’ve l...</td>\n",
       "      <td>4</td>\n",
       "    </tr>\n",
       "    <tr>\n",
       "      <th>2298</th>\n",
       "      <td>Some, in the true spirit of reckless enterpris...</td>\n",
       "      <td>19</td>\n",
       "    </tr>\n",
       "    <tr>\n",
       "      <th>2299</th>\n",
       "      <td>\"'E's got mindin' the animiles so long that bl...</td>\n",
       "      <td>20</td>\n",
       "    </tr>\n",
       "  </tbody>\n",
       "</table>\n",
       "<p>2300 rows × 2 columns</p>\n",
       "</div>"
      ],
      "text/plain": [
       "                                                   text  author_num\n",
       "0     What can I recall of her during the past six m...          22\n",
       "1     “How is Monsieur’s arm?” replied Basque. “Bett...          21\n",
       "2     It drags hard; I guess he’s holding on. Jerk h...          10\n",
       "3     Bless you, _they_ ain't got noth'n' to complai...          15\n",
       "4     On leaving Omaha, it passes along the left ban...          12\n",
       "...                                                 ...         ...\n",
       "2295  Up here were only dark, bare rock slopes and t...           9\n",
       "2296  \"Oh, Harry, we were sure you were going to -- ...          11\n",
       "2297  I han’t seen a way to get you safe, and I’ve l...           4\n",
       "2298  Some, in the true spirit of reckless enterpris...          19\n",
       "2299  \"'E's got mindin' the animiles so long that bl...          20\n",
       "\n",
       "[2300 rows x 2 columns]"
      ]
     },
     "execution_count": 10,
     "metadata": {},
     "output_type": "execute_result"
    }
   ],
   "source": [
    "df"
   ]
  },
  {
   "cell_type": "code",
   "execution_count": 11,
   "metadata": {},
   "outputs": [],
   "source": [
    "import torch\n",
    "from torch.nn.utils.rnn import pad_sequence\n",
    "from torch.utils.data import DataLoader\n",
    "from collections import Counter\n",
    "from torchtext.vocab import build_vocab_from_iterator, GloVe\n",
    "from torchtext.data.utils import get_tokenizer\n",
    "\n",
    "def yield_tokens(data_iter):\n",
    "    tokenizer = get_tokenizer(\"spacy\", language=\"en_core_web_sm\")\n",
    "    for text in data_iter:\n",
    "        yield tokenizer(text)\n",
    "\n",
    "all_texts = list(train_df['text'].str.lower()) + list(test_df['text'].str.lower())\n",
    "# Build vocabulary\n",
    "tokenizer = get_tokenizer(\"spacy\", language=\"en_core_web_sm\")\n",
    "vocab = build_vocab_from_iterator(yield_tokens(all_texts), specials=[\"<unk>\", \"<pad>\"])\n",
    "vocab.set_default_index(vocab['<unk>'])  # Handle unknown tokens\n",
    "glove = GloVe(name='6B', dim=100)\n",
    "embedding_matrix = torch.zeros((len(vocab), 100))\n",
    "for word, idx in vocab.get_stoi().items():\n",
    "    if word in glove.stoi:\n",
    "        embedding_matrix[idx] = glove.vectors[glove.stoi[word]]\n",
    "    else:\n",
    "        embedding_matrix[idx] = torch.randn(100)  # Random initialization for words not in GloVe"
   ]
  },
  {
   "cell_type": "code",
   "execution_count": 25,
   "metadata": {},
   "outputs": [],
   "source": [
    "from torch.nn.utils.rnn import pad_sequence\n",
    "from torch.utils.data import DataLoader, Dataset\n",
    "\n",
    "class TextAuthorDataset(Dataset):\n",
    "    def __init__(self, dataframe, vocab, label_dict):\n",
    "        self.dataframe = dataframe\n",
    "        self.vocab = vocab\n",
    "        self.label_dict = label_dict\n",
    "        self.tokenizer = get_tokenizer('basic_english')\n",
    "\n",
    "    def __len__(self):\n",
    "        return len(self.dataframe)\n",
    "\n",
    "    def __getitem__(self, idx):\n",
    "        text = self.dataframe.iloc[idx]['text']\n",
    "        label = self.dataframe.iloc[idx]['author_num']\n",
    "        text = [self.vocab[token] for token in self.tokenizer(text)]\n",
    "        return torch.tensor(text, dtype=torch.long), torch.tensor(self.label_dict[label], dtype=torch.long)\n",
    "\n",
    "author_labels = {name: idx for idx, name in enumerate(df['author_num'].unique())}\n",
    "\n",
    "\n",
    "train_dataset = TextAuthorDataset(train_df, vocab, author_labels)\n",
    "test_dataset = TextAuthorDataset(test_df, vocab, author_labels)\n",
    "def collate_batch(batch):\n",
    "    texts, labels = zip(*batch)\n",
    "    lengths = torch.tensor([len(seq) for seq in texts], dtype=torch.long)\n",
    "    \n",
    "    texts = pad_sequence(texts, batch_first=True, padding_value=vocab.get_stoi()['<pad>'])  # Adjust padding_value based on your vocab\n",
    "    labels = torch.tensor(labels, dtype=torch.long)\n",
    "    \n",
    "    return texts, lengths, labels\n",
    "\n",
    "\n",
    "train_loader = DataLoader(train_dataset, batch_size=32, shuffle=True, collate_fn=collate_batch)\n",
    "test_loader = DataLoader(test_dataset, batch_size=32, shuffle=False, collate_fn=collate_batch)\n",
    "\n"
   ]
  },
  {
   "cell_type": "code",
   "execution_count": 26,
   "metadata": {},
   "outputs": [],
   "source": [
    "reversed_dict = {\n",
    "    'Agatha Christie': 0,\n",
    "    'Arthur Conan Doyle': 1,\n",
    "    'Austen': 2,\n",
    "    'Daniel Defoe': 3,\n",
    "    'Dickens': 4,\n",
    "    'Emily Bronte': 5,\n",
    "    'Fitzgerald': 6,\n",
    "    'Frances Hodgson Burnett': 7,\n",
    "    'Gaston Leroux': 8,\n",
    "    'H.P. Lovecraft': 9,\n",
    "    'Herman Melville': 10,\n",
    "    'J.K. Rowling': 11,\n",
    "    'Jules Verne': 12,\n",
    "    'Leo Tolstoy': 13,\n",
    "    'Louisa May Alcott': 14,\n",
    "    'Mark Twain': 15,\n",
    "    'Mitchell': 16,\n",
    "    'Montgomery': 17,\n",
    "    'Robert Louis Stevenson': 18,\n",
    "    'Shelley': 19,\n",
    "    'Stoker': 20,\n",
    "    'Victor Hugo': 21,\n",
    "    'Wilkie Collins': 22\n",
    "}"
   ]
  },
  {
   "cell_type": "code",
   "execution_count": 27,
   "metadata": {},
   "outputs": [
    {
     "data": {
      "text/html": [
       "<div>\n",
       "<style scoped>\n",
       "    .dataframe tbody tr th:only-of-type {\n",
       "        vertical-align: middle;\n",
       "    }\n",
       "\n",
       "    .dataframe tbody tr th {\n",
       "        vertical-align: top;\n",
       "    }\n",
       "\n",
       "    .dataframe thead th {\n",
       "        text-align: right;\n",
       "    }\n",
       "</style>\n",
       "<table border=\"1\" class=\"dataframe\">\n",
       "  <thead>\n",
       "    <tr style=\"text-align: right;\">\n",
       "      <th></th>\n",
       "      <th>text</th>\n",
       "      <th>book_name</th>\n",
       "      <th>author</th>\n",
       "      <th>genre</th>\n",
       "      <th>author_num</th>\n",
       "    </tr>\n",
       "  </thead>\n",
       "  <tbody>\n",
       "    <tr>\n",
       "      <th>0</th>\n",
       "      <td>Happy families are all alike; every unhappy fa...</td>\n",
       "      <td>Anna_Kerinena</td>\n",
       "      <td>Leo Tolstoy</td>\n",
       "      <td>historical</td>\n",
       "      <td>13</td>\n",
       "    </tr>\n",
       "    <tr>\n",
       "      <th>1</th>\n",
       "      <td>\"Ah, ah, ah! Oo!...\" he muttered, recalling ev...</td>\n",
       "      <td>Anna_Kerinena</td>\n",
       "      <td>Leo Tolstoy</td>\n",
       "      <td>historical</td>\n",
       "      <td>13</td>\n",
       "    </tr>\n",
       "    <tr>\n",
       "      <th>2</th>\n",
       "      <td>But he felt all the difficulty of his position...</td>\n",
       "      <td>Anna_Kerinena</td>\n",
       "      <td>Leo Tolstoy</td>\n",
       "      <td>historical</td>\n",
       "      <td>13</td>\n",
       "    </tr>\n",
       "    <tr>\n",
       "      <th>3</th>\n",
       "      <td>Stepan Arkadyevitch's eyes asked: \"Why do you ...</td>\n",
       "      <td>Anna_Kerinena</td>\n",
       "      <td>Leo Tolstoy</td>\n",
       "      <td>historical</td>\n",
       "      <td>13</td>\n",
       "    </tr>\n",
       "    <tr>\n",
       "      <th>4</th>\n",
       "      <td>Beg her forgiveness, sir. There's no help for ...</td>\n",
       "      <td>Anna_Kerinena</td>\n",
       "      <td>Leo Tolstoy</td>\n",
       "      <td>historical</td>\n",
       "      <td>13</td>\n",
       "    </tr>\n",
       "    <tr>\n",
       "      <th>...</th>\n",
       "      <td>...</td>\n",
       "      <td>...</td>\n",
       "      <td>...</td>\n",
       "      <td>...</td>\n",
       "      <td>...</td>\n",
       "    </tr>\n",
       "    <tr>\n",
       "      <th>13149</th>\n",
       "      <td>He returned after midnight, and, instead of go...</td>\n",
       "      <td>Wuthering_Heights</td>\n",
       "      <td>Emily Bronte</td>\n",
       "      <td>romance</td>\n",
       "      <td>5</td>\n",
       "    </tr>\n",
       "    <tr>\n",
       "      <th>13150</th>\n",
       "      <td>“Strange happiness! If you would hear me witho...</td>\n",
       "      <td>Wuthering_Heights</td>\n",
       "      <td>Emily Bronte</td>\n",
       "      <td>romance</td>\n",
       "      <td>5</td>\n",
       "    </tr>\n",
       "    <tr>\n",
       "      <th>13151</th>\n",
       "      <td>The following evening was very wet: indeed, it...</td>\n",
       "      <td>Wuthering_Heights</td>\n",
       "      <td>Emily Bronte</td>\n",
       "      <td>romance</td>\n",
       "      <td>5</td>\n",
       "    </tr>\n",
       "    <tr>\n",
       "      <th>13152</th>\n",
       "      <td>Hareton, with a streaming face, dug green sods...</td>\n",
       "      <td>Wuthering_Heights</td>\n",
       "      <td>Emily Bronte</td>\n",
       "      <td>romance</td>\n",
       "      <td>5</td>\n",
       "    </tr>\n",
       "    <tr>\n",
       "      <th>13153</th>\n",
       "      <td>When beneath its walls, I perceived decay had ...</td>\n",
       "      <td>Wuthering_Heights</td>\n",
       "      <td>Emily Bronte</td>\n",
       "      <td>romance</td>\n",
       "      <td>5</td>\n",
       "    </tr>\n",
       "  </tbody>\n",
       "</table>\n",
       "<p>13154 rows × 5 columns</p>\n",
       "</div>"
      ],
      "text/plain": [
       "                                                    text          book_name  \\\n",
       "0      Happy families are all alike; every unhappy fa...      Anna_Kerinena   \n",
       "1      \"Ah, ah, ah! Oo!...\" he muttered, recalling ev...      Anna_Kerinena   \n",
       "2      But he felt all the difficulty of his position...      Anna_Kerinena   \n",
       "3      Stepan Arkadyevitch's eyes asked: \"Why do you ...      Anna_Kerinena   \n",
       "4      Beg her forgiveness, sir. There's no help for ...      Anna_Kerinena   \n",
       "...                                                  ...                ...   \n",
       "13149  He returned after midnight, and, instead of go...  Wuthering_Heights   \n",
       "13150  “Strange happiness! If you would hear me witho...  Wuthering_Heights   \n",
       "13151  The following evening was very wet: indeed, it...  Wuthering_Heights   \n",
       "13152  Hareton, with a streaming face, dug green sods...  Wuthering_Heights   \n",
       "13153  When beneath its walls, I perceived decay had ...  Wuthering_Heights   \n",
       "\n",
       "             author       genre  author_num  \n",
       "0       Leo Tolstoy  historical          13  \n",
       "1       Leo Tolstoy  historical          13  \n",
       "2       Leo Tolstoy  historical          13  \n",
       "3       Leo Tolstoy  historical          13  \n",
       "4       Leo Tolstoy  historical          13  \n",
       "...             ...         ...         ...  \n",
       "13149  Emily Bronte     romance           5  \n",
       "13150  Emily Bronte     romance           5  \n",
       "13151  Emily Bronte     romance           5  \n",
       "13152  Emily Bronte     romance           5  \n",
       "13153  Emily Bronte     romance           5  \n",
       "\n",
       "[13154 rows x 5 columns]"
      ]
     },
     "execution_count": 27,
     "metadata": {},
     "output_type": "execute_result"
    }
   ],
   "source": [
    "total_dataset = pd.read_csv(r'C:\\Deep-Learning-based-Authorship-Identification\\data_with_genre.csv')\n",
    "\n",
    "total_dataset['author_num'] = total_dataset['author'].map(reversed_dict)\n",
    "total_dataset"
   ]
  },
  {
   "cell_type": "code",
   "execution_count": 28,
   "metadata": {},
   "outputs": [
    {
     "data": {
      "text/html": [
       "<div>\n",
       "<style scoped>\n",
       "    .dataframe tbody tr th:only-of-type {\n",
       "        vertical-align: middle;\n",
       "    }\n",
       "\n",
       "    .dataframe tbody tr th {\n",
       "        vertical-align: top;\n",
       "    }\n",
       "\n",
       "    .dataframe thead th {\n",
       "        text-align: right;\n",
       "    }\n",
       "</style>\n",
       "<table border=\"1\" class=\"dataframe\">\n",
       "  <thead>\n",
       "    <tr style=\"text-align: right;\">\n",
       "      <th></th>\n",
       "      <th>text</th>\n",
       "      <th>author_num</th>\n",
       "    </tr>\n",
       "  </thead>\n",
       "  <tbody>\n",
       "    <tr>\n",
       "      <th>0</th>\n",
       "      <td>Happy families are all alike; every unhappy fa...</td>\n",
       "      <td>13</td>\n",
       "    </tr>\n",
       "    <tr>\n",
       "      <th>1</th>\n",
       "      <td>\"Ah, ah, ah! Oo!...\" he muttered, recalling ev...</td>\n",
       "      <td>13</td>\n",
       "    </tr>\n",
       "    <tr>\n",
       "      <th>2</th>\n",
       "      <td>But he felt all the difficulty of his position...</td>\n",
       "      <td>13</td>\n",
       "    </tr>\n",
       "    <tr>\n",
       "      <th>3</th>\n",
       "      <td>Stepan Arkadyevitch's eyes asked: \"Why do you ...</td>\n",
       "      <td>13</td>\n",
       "    </tr>\n",
       "    <tr>\n",
       "      <th>4</th>\n",
       "      <td>Beg her forgiveness, sir. There's no help for ...</td>\n",
       "      <td>13</td>\n",
       "    </tr>\n",
       "    <tr>\n",
       "      <th>...</th>\n",
       "      <td>...</td>\n",
       "      <td>...</td>\n",
       "    </tr>\n",
       "    <tr>\n",
       "      <th>13149</th>\n",
       "      <td>He returned after midnight, and, instead of go...</td>\n",
       "      <td>5</td>\n",
       "    </tr>\n",
       "    <tr>\n",
       "      <th>13150</th>\n",
       "      <td>“Strange happiness! If you would hear me witho...</td>\n",
       "      <td>5</td>\n",
       "    </tr>\n",
       "    <tr>\n",
       "      <th>13151</th>\n",
       "      <td>The following evening was very wet: indeed, it...</td>\n",
       "      <td>5</td>\n",
       "    </tr>\n",
       "    <tr>\n",
       "      <th>13152</th>\n",
       "      <td>Hareton, with a streaming face, dug green sods...</td>\n",
       "      <td>5</td>\n",
       "    </tr>\n",
       "    <tr>\n",
       "      <th>13153</th>\n",
       "      <td>When beneath its walls, I perceived decay had ...</td>\n",
       "      <td>5</td>\n",
       "    </tr>\n",
       "  </tbody>\n",
       "</table>\n",
       "<p>13154 rows × 2 columns</p>\n",
       "</div>"
      ],
      "text/plain": [
       "                                                    text  author_num\n",
       "0      Happy families are all alike; every unhappy fa...          13\n",
       "1      \"Ah, ah, ah! Oo!...\" he muttered, recalling ev...          13\n",
       "2      But he felt all the difficulty of his position...          13\n",
       "3      Stepan Arkadyevitch's eyes asked: \"Why do you ...          13\n",
       "4      Beg her forgiveness, sir. There's no help for ...          13\n",
       "...                                                  ...         ...\n",
       "13149  He returned after midnight, and, instead of go...           5\n",
       "13150  “Strange happiness! If you would hear me witho...           5\n",
       "13151  The following evening was very wet: indeed, it...           5\n",
       "13152  Hareton, with a streaming face, dug green sods...           5\n",
       "13153  When beneath its walls, I perceived decay had ...           5\n",
       "\n",
       "[13154 rows x 2 columns]"
      ]
     },
     "execution_count": 28,
     "metadata": {},
     "output_type": "execute_result"
    }
   ],
   "source": [
    "total_dataset = total_dataset.drop(columns = ['book_name','author','genre'])\n",
    "total_dataset"
   ]
  },
  {
   "cell_type": "code",
   "execution_count": 29,
   "metadata": {},
   "outputs": [
    {
     "data": {
      "text/plain": [
       "{22: 0,\n",
       " 21: 1,\n",
       " 10: 2,\n",
       " 15: 3,\n",
       " 12: 4,\n",
       " 17: 5,\n",
       " 2: 6,\n",
       " 14: 7,\n",
       " 16: 8,\n",
       " 13: 9,\n",
       " 7: 10,\n",
       " 11: 11,\n",
       " 1: 12,\n",
       " 20: 13,\n",
       " 5: 14,\n",
       " 3: 15,\n",
       " 19: 16,\n",
       " 6: 17,\n",
       " 18: 18,\n",
       " 0: 19,\n",
       " 4: 20,\n",
       " 8: 21,\n",
       " 9: 22}"
      ]
     },
     "execution_count": 29,
     "metadata": {},
     "output_type": "execute_result"
    }
   ],
   "source": [
    "author_labels"
   ]
  },
  {
   "cell_type": "code",
   "execution_count": 30,
   "metadata": {},
   "outputs": [],
   "source": [
    "\n",
    "import torch\n",
    "import torch.nn as nn\n",
    "\n",
    "class TextAuthorClassifier(nn.Module):\n",
    "    def __init__(self, classifier_type, num_classes, hidden_dim, vocab_dim, embed_dim, pretrained_embeddings):\n",
    "        super(TextAuthorClassifier, self).__init__()\n",
    "\n",
    "        self.classifier_type = classifier_type\n",
    "        self.num_classes = num_classes\n",
    "        self.hidden_dim = hidden_dim\n",
    "        self.vocab_dim = vocab_dim\n",
    "        self.embed_dim = embed_dim\n",
    "        self.word_embeddings = nn.Embedding.from_pretrained(pretrained_embeddings, freeze=True)\n",
    "\n",
    "        if self.classifier_type == 'lstm':\n",
    "            self.rnn_network = nn.LSTM(self.embed_dim, self.hidden_dim, batch_first=True)\n",
    "        elif self.classifier_type == 'gru':\n",
    "            self.rnn_network = nn.GRU(self.embed_dim, self.hidden_dim, batch_first=True)\n",
    "        elif self.classifier_type == 'bilstm':\n",
    "            self.rnn_network = nn.LSTM(self.embed_dim, self.hidden_dim, bidirectional=True, batch_first=True)\n",
    "\n",
    "        self.final_layer = nn.Linear(self.hidden_dim * 2 if self.classifier_type == 'bilstm' else self.hidden_dim, self.num_classes)\n",
    "\n",
    "    def forward(self, input_texts, input_lengths):\n",
    "        embedded_texts = self.word_embeddings(input_texts)\n",
    "        packed_texts = nn.utils.rnn.pack_padded_sequence(embedded_texts, input_lengths.cpu(), batch_first=True, enforce_sorted=False)\n",
    "\n",
    "        if self.classifier_type in ('lstm', 'bilstm'):\n",
    "            _, (last_hidden, _) = self.rnn_network(packed_texts)\n",
    "        else:\n",
    "            _, last_hidden = self.rnn_network(packed_texts)\n",
    "\n",
    "        if self.classifier_type == 'bilstm':  \n",
    "            last_hidden = torch.cat((last_hidden[-2], last_hidden[-1]), dim=1)\n",
    "        else:\n",
    "            last_hidden = last_hidden[-1]\n",
    "        \n",
    "        last_hidden = last_hidden.squeeze(0)\n",
    "        class_output = self.final_layer(last_hidden)\n",
    "        return class_output\n",
    "\n"
   ]
  },
  {
   "cell_type": "code",
   "execution_count": 31,
   "metadata": {},
   "outputs": [],
   "source": [
    "import torch\n",
    "import torch.nn as nn\n",
    "from torch.utils.data import DataLoader\n",
    "from tensorboardX import SummaryWriter\n",
    "import sklearn.metrics\n",
    "\n",
    "def train_classifier(model, data_loader, loss_function, optimizer, num_epochs, device, log=\"runs\", verbose=False):\n",
    "    writer = SummaryWriter(log_dir=log)\n",
    "    model.train()\n",
    "    global_step = 0\n",
    "    for epoch in range(num_epochs):\n",
    "        total_correct = 0\n",
    "        total_samples = 0\n",
    "        total_loss = 0\n",
    "        f1_score_aggregated = 0\n",
    "        num_batches = 0\n",
    "        \n",
    "        for comments, comment_lengths, labels in data_loader:\n",
    "            comments = comments.to(device)\n",
    "            comment_lengths = comment_lengths.to('cpu').long()  \n",
    "            labels = labels.to(device)\n",
    "\n",
    "            optimizer.zero_grad()\n",
    "            outputs = model(comments, comment_lengths)\n",
    "            loss = loss_function(outputs, labels)\n",
    "            loss.backward()\n",
    "            nn.utils.clip_grad_norm_(model.parameters(), 0.5)  \n",
    "            optimizer.step()\n",
    "\n",
    "            predictions = outputs.argmax(dim=1)\n",
    "            total_correct += (predictions == labels).sum().item()\n",
    "            total_samples += labels.size(0)\n",
    "            total_loss += loss.item()\n",
    "            num_batches += 1\n",
    "            f1_score_aggregated += sklearn.metrics.f1_score(labels.cpu().numpy(), predictions.cpu().numpy(), average='macro')\n",
    "\n",
    "            # Log every 100 steps\n",
    "            if (global_step % 100) == 0:\n",
    "                writer.add_scalar(\"Loss/train\", total_loss / total_samples, global_step)\n",
    "                writer.add_scalar(\"Acc/train\", total_correct / total_samples, global_step)\n",
    "                writer.add_scalar(\"F1 Score/train\", f1_score_aggregated / num_batches, global_step)\n",
    "            \n",
    "            global_step += 1\n",
    "\n",
    "        # Epoch-wise metrics\n",
    "        epoch_loss = total_loss / total_samples\n",
    "        epoch_acc = total_correct / total_samples\n",
    "        epoch_f1 = f1_score_aggregated / num_batches\n",
    "        if verbose:\n",
    "            print(f'Epoch {epoch+1}: Acc: {epoch_acc:.4f}, Loss: {epoch_loss:.4f}, F1 Score: {epoch_f1:.4f}')\n",
    "\n",
    "    writer.close()\n",
    "    return epoch_loss, epoch_f1, epoch_acc\n"
   ]
  },
  {
   "cell_type": "code",
   "execution_count": 32,
   "metadata": {},
   "outputs": [],
   "source": [
    "def evaluate_classifier(model, data_loader, loss_function, device):\n",
    "    model.eval()  # Set the model to evaluation mode\n",
    "    total_loss = 0\n",
    "    correct = 0\n",
    "    total = 0\n",
    "    all_preds = []\n",
    "    all_labels = []\n",
    "\n",
    "    with torch.no_grad():  # No gradients needed for evaluation\n",
    "        for comment, comment_lengths, labels in data_loader:\n",
    "            comment, comment_lengths, labels = comment.to(device), comment_lengths.to(device), labels.to(device)\n",
    "            output = model(comment, comment_lengths)\n",
    "            loss = loss_function(output, labels)\n",
    "            total_loss += loss.item()\n",
    "            \n",
    "            pred = output.argmax(dim=1)  # Assuming your output is logits or probabilities\n",
    "            correct += (pred == labels).sum().item()\n",
    "            total += labels.size(0)\n",
    "            \n",
    "            all_preds.extend(pred.cpu().numpy())\n",
    "            all_labels.extend(labels.cpu().numpy())\n",
    "\n",
    "    avg_loss = total_loss / len(data_loader)\n",
    "    accuracy = correct / total\n",
    "    loss_avg = total_loss / total\n",
    "   \n",
    "\n",
    "    print(\"Validation statistics: Acc: %.4f Loss: %.4f \" % (accuracy, loss_avg))\n",
    "    return all_preds, all_labels, accuracy, avg_loss\n",
    "\n"
   ]
  },
  {
   "cell_type": "markdown",
   "metadata": {},
   "source": []
  },
  {
   "cell_type": "code",
   "execution_count": 36,
   "metadata": {},
   "outputs": [
    {
     "name": "stdout",
     "output_type": "stream",
     "text": [
      "Using device: cuda\n",
      "Training iteration: 1\n",
      "---Training statistics--- Epoch: 1 Acc: 0.0497 Loss: 0.0992 F1 Score: 0.0178\n",
      "Validation statistics: Acc: 0.0812 Loss: 0.0966 \n",
      "Training iteration: 2\n",
      "---Training statistics--- Epoch: 1 Acc: 0.0963 Loss: 0.0930 F1 Score: 0.0421\n",
      "Validation statistics: Acc: 0.1029 Loss: 0.0907 \n",
      "Training iteration: 3\n",
      "---Training statistics--- Epoch: 1 Acc: 0.1714 Loss: 0.0835 F1 Score: 0.1028\n",
      "Validation statistics: Acc: 0.1478 Loss: 0.0885 \n",
      "Training iteration: 4\n",
      "---Training statistics--- Epoch: 1 Acc: 0.2348 Loss: 0.0771 F1 Score: 0.1640\n",
      "Validation statistics: Acc: 0.2507 Loss: 0.0731 \n",
      "Training iteration: 5\n",
      "---Training statistics--- Epoch: 1 Acc: 0.3683 Loss: 0.0630 F1 Score: 0.2752\n",
      "Validation statistics: Acc: 0.3681 Loss: 0.0643 \n",
      "Training iteration: 6\n",
      "---Training statistics--- Epoch: 1 Acc: 0.5075 Loss: 0.0493 F1 Score: 0.4051\n",
      "Validation statistics: Acc: 0.4304 Loss: 0.0570 \n",
      "Training iteration: 7\n",
      "---Training statistics--- Epoch: 1 Acc: 0.6186 Loss: 0.0387 F1 Score: 0.5120\n",
      "Validation statistics: Acc: 0.5072 Loss: 0.0521 \n",
      "Training iteration: 8\n",
      "---Training statistics--- Epoch: 1 Acc: 0.7068 Loss: 0.0302 F1 Score: 0.6108\n",
      "Validation statistics: Acc: 0.5710 Loss: 0.0453 \n",
      "Training iteration: 9\n",
      "---Training statistics--- Epoch: 1 Acc: 0.7733 Loss: 0.0235 F1 Score: 0.7013\n",
      "Validation statistics: Acc: 0.6087 Loss: 0.0413 \n",
      "Training iteration: 10\n",
      "---Training statistics--- Epoch: 1 Acc: 0.8609 Loss: 0.0161 F1 Score: 0.8015\n",
      "Validation statistics: Acc: 0.6478 Loss: 0.0388 \n",
      "Training iteration: 11\n",
      "---Training statistics--- Epoch: 1 Acc: 0.8994 Loss: 0.0109 F1 Score: 0.8562\n",
      "Validation statistics: Acc: 0.6377 Loss: 0.0412 \n",
      "Training iteration: 12\n",
      "---Training statistics--- Epoch: 1 Acc: 0.9453 Loss: 0.0071 F1 Score: 0.9138\n",
      "Validation statistics: Acc: 0.6899 Loss: 0.0368 \n",
      "Training iteration: 13\n",
      "---Training statistics--- Epoch: 1 Acc: 0.9764 Loss: 0.0039 F1 Score: 0.9600\n",
      "Validation statistics: Acc: 0.6942 Loss: 0.0354 \n",
      "Training iteration: 14\n",
      "---Training statistics--- Epoch: 1 Acc: 0.9863 Loss: 0.0027 F1 Score: 0.9772\n",
      "Validation statistics: Acc: 0.6812 Loss: 0.0392 \n",
      "Training iteration: 15\n",
      "---Training statistics--- Epoch: 1 Acc: 0.9882 Loss: 0.0021 F1 Score: 0.9771\n",
      "Validation statistics: Acc: 0.6884 Loss: 0.0410 \n",
      "Training iteration: 16\n",
      "---Training statistics--- Epoch: 1 Acc: 0.9845 Loss: 0.0023 F1 Score: 0.9802\n",
      "Validation statistics: Acc: 0.6986 Loss: 0.0398 \n",
      "Training iteration: 17\n",
      "---Training statistics--- Epoch: 1 Acc: 0.9938 Loss: 0.0013 F1 Score: 0.9923\n",
      "Validation statistics: Acc: 0.6812 Loss: 0.0421 \n",
      "Training iteration: 18\n",
      "---Training statistics--- Epoch: 1 Acc: 0.9944 Loss: 0.0009 F1 Score: 0.9894\n",
      "Validation statistics: Acc: 0.6783 Loss: 0.0419 \n",
      "Training iteration: 19\n",
      "---Training statistics--- Epoch: 1 Acc: 0.9988 Loss: 0.0006 F1 Score: 0.9981\n",
      "Validation statistics: Acc: 0.6986 Loss: 0.0409 \n",
      "Training iteration: 20\n",
      "---Training statistics--- Epoch: 1 Acc: 0.9994 Loss: 0.0003 F1 Score: 0.9985\n",
      "Validation statistics: Acc: 0.7014 Loss: 0.0408 \n"
     ]
    },
    {
     "data": {
      "image/png": "[encoded data removed]",
      "text/plain": [
       "<Figure size 1000x1000 with 2 Axes>"
      ]
     },
     "metadata": {},
     "output_type": "display_data"
    }
   ],
   "source": [
    "import torch\n",
    "import torch.nn as nn\n",
    "from torch.utils.data import DataLoader, Dataset\n",
    "import matplotlib.pyplot as plt\n",
    "import seaborn as sns\n",
    "import numpy as np\n",
    "import sklearn.metrics\n",
    "from tensorboardX import SummaryWriter\n",
    "\n",
    "# Device configuration\n",
    "device_config = torch.device('cuda' if torch.cuda.is_available() else 'cpu')\n",
    "print(f\"Active device: {device_config}\")\n",
    "\n",
    "# Model parameters\n",
    "total_classes = 23\n",
    "model_hidden_size = 300\n",
    "lexicon_size = len(vocab)\n",
    "embed_dim_length = 100\n",
    "\n",
    "# Embedding setup\n",
    "embed_layer = nn.Embedding(lexicon_size, embed_dim_length)\n",
    "embed_vectors = embed_layer.weight.detach()  # Detach to prevent gradient updates\n",
    "\n",
    "# Model instantiation\n",
    "author_classifier = TextAuthorClassifier('lstm', total_classes, model_hidden_size, lexicon_size, embed_dim_length, embed_vectors).to(device_config)\n",
    "model_optimizer = torch.optim.Adam(author_classifier.parameters(), lr=0.01)\n",
    "classification_loss = nn.CrossEntropyLoss()\n",
    "\n",
    "# Logging setup\n",
    "logging_directory = 'runs/lstm_experiment'\n",
    "iteration_epochs = 1\n",
    "\n",
    "# Metrics lists\n",
    "train_accuracy_log = []\n",
    "train_loss_log = []\n",
    "test_accuracy_log = []\n",
    "test_loss_log = []\n",
    "\n",
    "for iteration in range(20):\n",
    "    print(f\"Starting training run: {iteration + 1}\")\n",
    "\n",
    "    # Execute training\n",
    "    batch_loss, batch_f1, batch_accuracy = train_classifier(\n",
    "        model=author_classifier,\n",
    "        data_loader=train_loader,\n",
    "        loss_function=classification_loss,\n",
    "        optimizer=model_optimizer,\n",
    "        num_epochs=iteration_epochs,\n",
    "        device=device_config,\n",
    "        log=logging_directory,\n",
    "        verbose=True\n",
    "    )\n",
    "    preds, true_labels, test_accuracy, test_loss = evaluate_classifier(\n",
    "        model=author_classifier,\n",
    "        data_loader=test_loader,\n",
    "        loss_function=classification_loss,\n",
    "        device=device_config\n",
    "    )\n",
    "\n",
    "    train_accuracy_log.append(batch_accuracy)\n",
    "    test_accuracy_log.append(test_accuracy)\n",
    "    train_loss_log.append(batch_loss)\n",
    "    test_loss_log.append(test_loss)\n",
    "\n",
    "# Generate confusion matrix\n",
    "confusion_mat = np.zeros((total_classes, total_classes))\n",
    "label_pred_pairs = list(zip(true_labels, preds))\n",
    "for pair in label_pred_pairs:\n",
    "    confusion_mat[pair] += 1\n",
    "\n",
    "# Display the confusion matrix\n",
    "plt.figure(figsize=(10, 10))\n",
    "sns.heatmap(confusion_mat, annot=True, fmt=\"g\")\n",
    "plt.title(\"Confusion Matrix\")\n",
    "plt.ylabel('Actual Label')\n",
    "plt.xlabel('Predicted Label')\n",
    "plt.show()\n"
   ]
  },
  {
   "cell_type": "code",
   "execution_count": 33,
   "metadata": {},
   "outputs": [
    {
     "name": "stdout",
     "output_type": "stream",
     "text": [
      "Using device: cuda\n",
      "Training iteration: 1\n",
      "---Training statistics--- Epoch: 1 Acc: 0.0714 Loss: 0.0983 F1 Score: 0.0372\n",
      "Validation statistics: Acc: 0.0957 Loss: 0.1000 \n",
      "Training iteration: 2\n",
      "---Training statistics--- Epoch: 1 Acc: 0.2478 Loss: 0.0753 F1 Score: 0.1570\n",
      "Validation statistics: Acc: 0.3217 Loss: 0.0651 \n",
      "Training iteration: 3\n",
      "---Training statistics--- Epoch: 1 Acc: 0.5311 Loss: 0.0478 F1 Score: 0.4305\n",
      "Validation statistics: Acc: 0.5841 Loss: 0.0433 \n",
      "Training iteration: 4\n",
      "---Training statistics--- Epoch: 1 Acc: 0.7770 Loss: 0.0228 F1 Score: 0.7010\n",
      "Validation statistics: Acc: 0.6928 Loss: 0.0328 \n",
      "Training iteration: 5\n",
      "---Training statistics--- Epoch: 1 Acc: 0.9180 Loss: 0.0095 F1 Score: 0.8739\n",
      "Validation statistics: Acc: 0.7420 Loss: 0.0279 \n",
      "Training iteration: 6\n",
      "---Training statistics--- Epoch: 1 Acc: 0.9739 Loss: 0.0033 F1 Score: 0.9556\n",
      "Validation statistics: Acc: 0.7841 Loss: 0.0253 \n",
      "Training iteration: 7\n",
      "---Training statistics--- Epoch: 1 Acc: 0.9901 Loss: 0.0017 F1 Score: 0.9859\n",
      "Validation statistics: Acc: 0.7536 Loss: 0.0276 \n",
      "Training iteration: 8\n",
      "---Training statistics--- Epoch: 1 Acc: 0.9950 Loss: 0.0009 F1 Score: 0.9915\n",
      "Validation statistics: Acc: 0.7797 Loss: 0.0263 \n",
      "Training iteration: 9\n",
      "---Training statistics--- Epoch: 1 Acc: 0.9963 Loss: 0.0005 F1 Score: 0.9936\n",
      "Validation statistics: Acc: 0.8203 Loss: 0.0222 \n",
      "Training iteration: 10\n",
      "---Training statistics--- Epoch: 1 Acc: 0.9994 Loss: 0.0001 F1 Score: 0.9993\n",
      "Validation statistics: Acc: 0.8145 Loss: 0.0227 \n",
      "Training iteration: 11\n",
      "---Training statistics--- Epoch: 1 Acc: 1.0000 Loss: 0.0001 F1 Score: 1.0000\n",
      "Validation statistics: Acc: 0.7986 Loss: 0.0249 \n",
      "Training iteration: 12\n",
      "---Training statistics--- Epoch: 1 Acc: 1.0000 Loss: 0.0001 F1 Score: 1.0000\n",
      "Validation statistics: Acc: 0.8188 Loss: 0.0249 \n",
      "Training iteration: 13\n",
      "---Training statistics--- Epoch: 1 Acc: 1.0000 Loss: 0.0000 F1 Score: 1.0000\n",
      "Validation statistics: Acc: 0.8246 Loss: 0.0235 \n",
      "Training iteration: 14\n",
      "---Training statistics--- Epoch: 1 Acc: 1.0000 Loss: 0.0000 F1 Score: 1.0000\n",
      "Validation statistics: Acc: 0.8232 Loss: 0.0237 \n",
      "Training iteration: 15\n",
      "---Training statistics--- Epoch: 1 Acc: 1.0000 Loss: 0.0000 F1 Score: 1.0000\n",
      "Validation statistics: Acc: 0.8232 Loss: 0.0240 \n",
      "Training iteration: 16\n",
      "---Training statistics--- Epoch: 1 Acc: 1.0000 Loss: 0.0000 F1 Score: 1.0000\n",
      "Validation statistics: Acc: 0.8232 Loss: 0.0242 \n",
      "Training iteration: 17\n",
      "---Training statistics--- Epoch: 1 Acc: 1.0000 Loss: 0.0000 F1 Score: 1.0000\n",
      "Validation statistics: Acc: 0.8246 Loss: 0.0244 \n",
      "Training iteration: 18\n",
      "---Training statistics--- Epoch: 1 Acc: 1.0000 Loss: 0.0000 F1 Score: 1.0000\n",
      "Validation statistics: Acc: 0.8246 Loss: 0.0246 \n",
      "Training iteration: 19\n",
      "---Training statistics--- Epoch: 1 Acc: 1.0000 Loss: 0.0000 F1 Score: 1.0000\n",
      "Validation statistics: Acc: 0.8246 Loss: 0.0248 \n",
      "Training iteration: 20\n",
      "---Training statistics--- Epoch: 1 Acc: 1.0000 Loss: 0.0000 F1 Score: 1.0000\n",
      "Validation statistics: Acc: 0.8261 Loss: 0.0250 \n"
     ]
    },
    {
     "data": {
      "image/png": "[encoded data removed]",
      "text/plain": [
       "<Figure size 1000x1000 with 2 Axes>"
      ]
     },
     "metadata": {},
     "output_type": "display_data"
    }
   ],
   "source": [
    "import torch\n",
    "import torch.nn as nn\n",
    "import matplotlib.pyplot as plt\n",
    "import seaborn as sns\n",
    "import numpy as np\n",
    "import sklearn\n",
    "# Assuming device is defined somewhere\n",
    "# device = torch.device('cuda' if torch.cuda.is_available() else 'cpu')\n",
    "\n",
    "# Initialize these outside the loop if you want cumulative learning\n",
    "compute_device = torch.device('cuda' if torch.cuda.is_available() else 'cpu')\n",
    "print(f\"Compute device selected: {compute_device}\")\n",
    "\n",
    "# Model configuration parameters\n",
    "num_classes = 23\n",
    "gru_hidden_size = 300\n",
    "total_vocab_size = len(vocab)\n",
    "embedding_size = 100\n",
    "embedding_layer = nn.Embedding(total_vocab_size, embedding_size)\n",
    "model_log_dir = 'runs/gru_experiment'\n",
    "\n",
    "# Model setup for GRU\n",
    "gru_mode = 'gru'\n",
    "gru_model = TextAuthorClassifier(gru_mode, num_classes, gru_hidden_size, total_vocab_size, embedding_size, embedding_matrix).to(compute_device)\n",
    "optimizer = torch.optim.Adam(gru_model.parameters(), lr=0.005)\n",
    "loss_criterion = nn.CrossEntropyLoss()\n",
    "\n",
    "# Tracking metrics across iterations\n",
    "accuracy_train_gru = []\n",
    "loss_train_gru = []\n",
    "accuracy_test_gru = []\n",
    "loss_test_gru = []\n",
    "\n",
    "for i in range(20):\n",
    "    print(f\"Training iteration: {i+1}\")\n",
    "\n",
    "    # Training\n",
    "    train_loss, train_f1, train_accuracy = train_classifier(\n",
    "        model=gru_model,\n",
    "        data_loader=train_loader,\n",
    "        loss_function=loss_criterion,\n",
    "        optimizer=optimizer,\n",
    "        num_epochs=1,\n",
    "        device=compute_device,\n",
    "        log=model_log_dir,\n",
    "        verbose=True\n",
    "    )\n",
    "\n",
    "    # Evaluation phase\n",
    "    predictions, labels, test_accuracy, test_loss = evaluate_classifier(\n",
    "        model=gru_model,\n",
    "        data_loader=test_loader,\n",
    "        loss_function=loss_criterion,\n",
    "        device=compute_device\n",
    "    )\n",
    "\n",
    "    # Storing metrics\n",
    "    accuracy_train_gru.append(train_accuracy)\n",
    "    loss_train_gru.append(train_loss)\n",
    "    accuracy_test_gru.append(test_accuracy)\n",
    "    loss_test_gru.append(test_loss)\n",
    "\n",
    "    # Confusion matrix\n",
    "confusion_matrix = np.zeros((23, 23))\n",
    "label_prediction_pairs = list(zip(labels, predictions))\n",
    "for pair in label_prediction_pairs:\n",
    "    confusion_matrix[pair] += 1\n",
    "\n",
    "# Display confusion matrix visualization\n",
    "plt.figure(figsize=(10, 10))\n",
    "sns.heatmap(confusion_matrix, annot=True, fmt=\"g\")\n",
    "plt.title(\"Confusion Matrix\")\n",
    "plt.ylabel('True Label')\n",
    "plt.xlabel('Predicted Label')\n",
    "plt.show()"
   ]
  },
  {
   "cell_type": "code",
   "execution_count": 20,
   "metadata": {},
   "outputs": [
    {
     "name": "stdout",
     "output_type": "stream",
     "text": [
      "Using device: cuda\n",
      "Training iteration: 1\n",
      "---Training statistics--- Epoch: 1 Acc: 0.0708 Loss: 0.1003 F1 Score: 0.0315\n",
      "Validation statistics: Acc: 0.1000 Loss: 0.0961 \n",
      "Training iteration: 2\n",
      "---Training statistics--- Epoch: 1 Acc: 0.1559 Loss: 0.0901 F1 Score: 0.1016\n",
      "Validation statistics: Acc: 0.0826 Loss: 0.1032 \n",
      "Training iteration: 3\n",
      "---Training statistics--- Epoch: 1 Acc: 0.2124 Loss: 0.0811 F1 Score: 0.1545\n",
      "Validation statistics: Acc: 0.1971 Loss: 0.0843 \n",
      "Training iteration: 4\n",
      "---Training statistics--- Epoch: 1 Acc: 0.3652 Loss: 0.0648 F1 Score: 0.2818\n",
      "Validation statistics: Acc: 0.2884 Loss: 0.0713 \n",
      "Training iteration: 5\n",
      "---Training statistics--- Epoch: 1 Acc: 0.5342 Loss: 0.0471 F1 Score: 0.4476\n",
      "Validation statistics: Acc: 0.4116 Loss: 0.0610 \n",
      "Training iteration: 6\n",
      "---Training statistics--- Epoch: 1 Acc: 0.6832 Loss: 0.0325 F1 Score: 0.5929\n",
      "Validation statistics: Acc: 0.4522 Loss: 0.0551 \n",
      "Training iteration: 7\n",
      "---Training statistics--- Epoch: 1 Acc: 0.7957 Loss: 0.0215 F1 Score: 0.7228\n",
      "Validation statistics: Acc: 0.4884 Loss: 0.0527 \n",
      "Training iteration: 8\n",
      "---Training statistics--- Epoch: 1 Acc: 0.8826 Loss: 0.0133 F1 Score: 0.8405\n",
      "Validation statistics: Acc: 0.5478 Loss: 0.0517 \n",
      "Training iteration: 9\n",
      "---Training statistics--- Epoch: 1 Acc: 0.9385 Loss: 0.0083 F1 Score: 0.9173\n",
      "Validation statistics: Acc: 0.5319 Loss: 0.0514 \n",
      "Training iteration: 10\n",
      "---Training statistics--- Epoch: 1 Acc: 0.9565 Loss: 0.0058 F1 Score: 0.9403\n",
      "Validation statistics: Acc: 0.5768 Loss: 0.0495 \n",
      "Training iteration: 11\n",
      "---Training statistics--- Epoch: 1 Acc: 0.9783 Loss: 0.0032 F1 Score: 0.9724\n",
      "Validation statistics: Acc: 0.5768 Loss: 0.0502 \n",
      "Training iteration: 12\n",
      "---Training statistics--- Epoch: 1 Acc: 0.9758 Loss: 0.0029 F1 Score: 0.9595\n",
      "Validation statistics: Acc: 0.5754 Loss: 0.0483 \n",
      "Training iteration: 13\n",
      "---Training statistics--- Epoch: 1 Acc: 0.9907 Loss: 0.0017 F1 Score: 0.9868\n",
      "Validation statistics: Acc: 0.6043 Loss: 0.0509 \n",
      "Training iteration: 14\n",
      "---Training statistics--- Epoch: 1 Acc: 0.9969 Loss: 0.0010 F1 Score: 0.9947\n",
      "Validation statistics: Acc: 0.5855 Loss: 0.0521 \n",
      "Training iteration: 15\n",
      "---Training statistics--- Epoch: 1 Acc: 0.9919 Loss: 0.0010 F1 Score: 0.9893\n",
      "Validation statistics: Acc: 0.5870 Loss: 0.0529 \n",
      "Training iteration: 16\n",
      "---Training statistics--- Epoch: 1 Acc: 0.9975 Loss: 0.0007 F1 Score: 0.9960\n",
      "Validation statistics: Acc: 0.5884 Loss: 0.0534 \n",
      "Training iteration: 17\n",
      "---Training statistics--- Epoch: 1 Acc: 0.9969 Loss: 0.0005 F1 Score: 0.9957\n",
      "Validation statistics: Acc: 0.5797 Loss: 0.0540 \n",
      "Training iteration: 18\n",
      "---Training statistics--- Epoch: 1 Acc: 0.9981 Loss: 0.0003 F1 Score: 0.9976\n",
      "Validation statistics: Acc: 0.6000 Loss: 0.0521 \n",
      "Training iteration: 19\n",
      "---Training statistics--- Epoch: 1 Acc: 1.0000 Loss: 0.0001 F1 Score: 1.0000\n",
      "Validation statistics: Acc: 0.5870 Loss: 0.0529 \n",
      "Training iteration: 20\n",
      "---Training statistics--- Epoch: 1 Acc: 1.0000 Loss: 0.0001 F1 Score: 1.0000\n",
      "Validation statistics: Acc: 0.6174 Loss: 0.0520 \n"
     ]
    },
    {
     "data": {
      "image/png": "[encoded data removed]",
      "text/plain": [
       "<Figure size 1000x1000 with 2 Axes>"
      ]
     },
     "metadata": {},
     "output_type": "display_data"
    }
   ],
   "source": [
    "\n",
    "import torch\n",
    "import torch.nn as nn\n",
    "import matplotlib.pyplot as plt\n",
    "import seaborn as sns\n",
    "import numpy as np\n",
    "from sklearn.metrics import f1_score\n",
    "from tensorboardX import SummaryWriter\n",
    "# Assuming device is defined somewhere\n",
    "# device = torch.device('cuda' if torch.cuda.is_available() else 'cpu')\n",
    "\n",
    "# Initialize these outside the loop if you want cumulative learning\n",
    "device = torch.device('cuda' if torch.cuda.is_available() else 'cpu')\n",
    "print(f\"Using device: {device}\")\n",
    "output_size = 23\n",
    "hidden_size = 400\n",
    "vocab_size = len(vocab)\n",
    "embedding_length = 100\n",
    "word_embeddings = nn.Embedding(vocab_size, embedding_length)\n",
    "log_dir = 'runs/bilstm'\n",
    "loss_function = nn.CrossEntropyLoss()\n",
    "log_directory = 'runs/bilstm_experiment'\n",
    "\n",
    "num_epochs = 1\n",
    "mode = 'bilstm'\n",
    "# Assuming the embeddings might not be on the correct device or dtype\n",
    "embedding_weights = word_embeddings.weight  # Detach if needed to avoid unwanted gradient tracking\n",
    "# Then pass to your model initializer\n",
    "\n",
    "model_bilstm = TextAuthorClassifier(mode, output_size, hidden_size, vocab_size, embedding_length, embedding_matrix).to(device)\n",
    "optimizer = torch.optim.Adam(model_bilstm.parameters(), lr=0.01)\n",
    "loss_function = nn.CrossEntropyLoss()\n",
    "accuracy_train_log = []\n",
    "accuracy_test_log = []\n",
    "f1_score_train_log = []\n",
    "f1_score_test_log = []\n",
    "loss_train_log = []\n",
    "loss_test_log = []\n",
    "for i in range(20):\n",
    "    print(f\"Training iteration: {i+1}\")\n",
    "\n",
    "    # Training\n",
    "    train_loss, train_f1, accuracy_train_bilstm = train_classifier(\n",
    "        model=model_bilstm,\n",
    "        data_loader=train_loader,\n",
    "        loss_function=loss_function,\n",
    "        optimizer=optimizer,\n",
    "        num_epochs=1,\n",
    "        device=device,\n",
    "        log=log_directory,\n",
    "        verbose=True\n",
    "    )\n",
    "\n",
    "    # Evaluate the model\n",
    "    predictions, labels, accuracy_test_bilstm, test_loss = evaluate_classifier(\n",
    "        model=model_bilstm,\n",
    "        data_loader=test_loader,\n",
    "        loss_function=loss_function,\n",
    "        device=device\n",
    "    )\n",
    "\n",
    "    # Store metrics for analysis\n",
    "    accuracy_train_log.append(train_accuracy)\n",
    "    accuracy_test_log.append(test_accuracy)\n",
    "    f1_score_train_log.append(train_f1)\n",
    "    f1_score_test_log.append(f1_score(labels, predictions, average='macro'))\n",
    "    loss_train_log.append(train_loss)\n",
    "    loss_test_log.append(test_loss)\n",
    "\n",
    "    # Confusion matrix\n",
    "conf_matrix = np.zeros((23, 23))\n",
    "for label, prediction in zip(labels, predictions):\n",
    "    conf_matrix[label, prediction] += 1\n",
    "\n",
    "# Plot the confusion matrix\n",
    "plt.figure(figsize=(10, 10))\n",
    "sns.heatmap(conf_matrix, annot=True, fmt=\"g\")\n",
    "plt.title(\"Confusion Matrix\")\n",
    "plt.ylabel('True Label')\n",
    "plt.xlabel('Predicted Label')\n",
    "plt.show()"
   ]
  },
  {
   "cell_type": "code",
   "execution_count": null,
   "metadata": {},
   "outputs": [],
   "source": []
  },
  {
   "cell_type": "code",
   "execution_count": null,
   "metadata": {},
   "outputs": [],
   "source": []
  },
  {
   "cell_type": "code",
   "execution_count": 22,
   "metadata": {},
   "outputs": [
    {
     "data": {
      "application/vnd.plotly.v1+json": {
       "config": {
        "plotlyServerURL": "https://plot.ly"
       },
       "data": [
        {
         "line": {
          "color": "red",
          "width": 2
         },
         "marker": {
          "color": "red",
          "size": 8
         },
         "mode": "lines+markers",
         "name": "LSTM Training Accuracy",
         "type": "scatter",
         "y": [
          0.0546583850931677,
          0.115527950310559,
          0.2031055900621118,
          0.2875776397515528,
          0.39627329192546584,
          0.5062111801242236,
          0.6354037267080745,
          0.7484472049689441,
          0.8198757763975155,
          0.8763975155279503,
          0.924223602484472,
          0.9509316770186336,
          0.9596273291925466,
          0.9832298136645963,
          0.9881987577639751,
          0.9962732919254659,
          0.9950310559006211,
          0.993167701863354,
          0.9975155279503105,
          0.9975155279503105
         ]
        },
        {
         "line": {
          "color": "green",
          "width": 2
         },
         "marker": {
          "color": "green",
          "size": 8
         },
         "mode": "lines+markers",
         "name": "GRU Training Accuracy",
         "type": "scatter",
         "y": [
          0.07391304347826087,
          0.23975155279503105,
          0.5434782608695652,
          0.7968944099378882,
          0.9198757763975155,
          0.9826086956521739,
          0.986335403726708,
          0.9981366459627329,
          0.9993788819875776,
          1,
          1,
          1,
          1,
          1,
          1,
          1,
          1,
          1,
          1,
          1
         ]
        },
        {
         "line": {
          "color": "blue",
          "width": 2
         },
         "marker": {
          "color": "blue",
          "size": 8
         },
         "mode": "lines+markers",
         "name": "BiLSTM Training Accuracy",
         "type": "scatter",
         "y": [
          0.07080745341614907,
          0.15590062111801242,
          0.2124223602484472,
          0.3652173913043478,
          0.5341614906832298,
          0.6832298136645962,
          0.7956521739130434,
          0.8826086956521739,
          0.9385093167701863,
          0.9565217391304348,
          0.9782608695652174,
          0.9757763975155279,
          0.9906832298136646,
          0.9968944099378882,
          0.9919254658385093,
          0.9975155279503105,
          0.9968944099378882,
          0.9981366459627329,
          1,
          1
         ]
        }
       ],
       "layout": {
        "legend": {
         "title": {
          "text": "Model Type"
         }
        },
        "template": {
         "data": {
          "bar": [
           {
            "error_x": {
             "color": "#2a3f5f"
            },
            "error_y": {
             "color": "#2a3f5f"
            },
            "marker": {
             "line": {
              "color": "white",
              "width": 0.5
             },
             "pattern": {
              "fillmode": "overlay",
              "size": 10,
              "solidity": 0.2
             }
            },
            "type": "bar"
           }
          ],
          "barpolar": [
           {
            "marker": {
             "line": {
              "color": "white",
              "width": 0.5
             },
             "pattern": {
              "fillmode": "overlay",
              "size": 10,
              "solidity": 0.2
             }
            },
            "type": "barpolar"
           }
          ],
          "carpet": [
           {
            "aaxis": {
             "endlinecolor": "#2a3f5f",
             "gridcolor": "#C8D4E3",
             "linecolor": "#C8D4E3",
             "minorgridcolor": "#C8D4E3",
             "startlinecolor": "#2a3f5f"
            },
            "baxis": {
             "endlinecolor": "#2a3f5f",
             "gridcolor": "#C8D4E3",
             "linecolor": "#C8D4E3",
             "minorgridcolor": "#C8D4E3",
             "startlinecolor": "#2a3f5f"
            },
            "type": "carpet"
           }
          ],
          "choropleth": [
           {
            "colorbar": {
             "outlinewidth": 0,
             "ticks": ""
            },
            "type": "choropleth"
           }
          ],
          "contour": [
           {
            "colorbar": {
             "outlinewidth": 0,
             "ticks": ""
            },
            "colorscale": [
             [
              0,
              "#0d0887"
             ],
             [
              0.1111111111111111,
              "#46039f"
             ],
             [
              0.2222222222222222,
              "#7201a8"
             ],
             [
              0.3333333333333333,
              "#9c179e"
             ],
             [
              0.4444444444444444,
              "#bd3786"
             ],
             [
              0.5555555555555556,
              "#d8576b"
             ],
             [
              0.6666666666666666,
              "#ed7953"
             ],
             [
              0.7777777777777778,
              "#fb9f3a"
             ],
             [
              0.8888888888888888,
              "#fdca26"
             ],
             [
              1,
              "#f0f921"
             ]
            ],
            "type": "contour"
           }
          ],
          "contourcarpet": [
           {
            "colorbar": {
             "outlinewidth": 0,
             "ticks": ""
            },
            "type": "contourcarpet"
           }
          ],
          "heatmap": [
           {
            "colorbar": {
             "outlinewidth": 0,
             "ticks": ""
            },
            "colorscale": [
             [
              0,
              "#0d0887"
             ],
             [
              0.1111111111111111,
              "#46039f"
             ],
             [
              0.2222222222222222,
              "#7201a8"
             ],
             [
              0.3333333333333333,
              "#9c179e"
             ],
             [
              0.4444444444444444,
              "#bd3786"
             ],
             [
              0.5555555555555556,
              "#d8576b"
             ],
             [
              0.6666666666666666,
              "#ed7953"
             ],
             [
              0.7777777777777778,
              "#fb9f3a"
             ],
             [
              0.8888888888888888,
              "#fdca26"
             ],
             [
              1,
              "#f0f921"
             ]
            ],
            "type": "heatmap"
           }
          ],
          "heatmapgl": [
           {
            "colorbar": {
             "outlinewidth": 0,
             "ticks": ""
            },
            "colorscale": [
             [
              0,
              "#0d0887"
             ],
             [
              0.1111111111111111,
              "#46039f"
             ],
             [
              0.2222222222222222,
              "#7201a8"
             ],
             [
              0.3333333333333333,
              "#9c179e"
             ],
             [
              0.4444444444444444,
              "#bd3786"
             ],
             [
              0.5555555555555556,
              "#d8576b"
             ],
             [
              0.6666666666666666,
              "#ed7953"
             ],
             [
              0.7777777777777778,
              "#fb9f3a"
             ],
             [
              0.8888888888888888,
              "#fdca26"
             ],
             [
              1,
              "#f0f921"
             ]
            ],
            "type": "heatmapgl"
           }
          ],
          "histogram": [
           {
            "marker": {
             "pattern": {
              "fillmode": "overlay",
              "size": 10,
              "solidity": 0.2
             }
            },
            "type": "histogram"
           }
          ],
          "histogram2d": [
           {
            "colorbar": {
             "outlinewidth": 0,
             "ticks": ""
            },
            "colorscale": [
             [
              0,
              "#0d0887"
             ],
             [
              0.1111111111111111,
              "#46039f"
             ],
             [
              0.2222222222222222,
              "#7201a8"
             ],
             [
              0.3333333333333333,
              "#9c179e"
             ],
             [
              0.4444444444444444,
              "#bd3786"
             ],
             [
              0.5555555555555556,
              "#d8576b"
             ],
             [
              0.6666666666666666,
              "#ed7953"
             ],
             [
              0.7777777777777778,
              "#fb9f3a"
             ],
             [
              0.8888888888888888,
              "#fdca26"
             ],
             [
              1,
              "#f0f921"
             ]
            ],
            "type": "histogram2d"
           }
          ],
          "histogram2dcontour": [
           {
            "colorbar": {
             "outlinewidth": 0,
             "ticks": ""
            },
            "colorscale": [
             [
              0,
              "#0d0887"
             ],
             [
              0.1111111111111111,
              "#46039f"
             ],
             [
              0.2222222222222222,
              "#7201a8"
             ],
             [
              0.3333333333333333,
              "#9c179e"
             ],
             [
              0.4444444444444444,
              "#bd3786"
             ],
             [
              0.5555555555555556,
              "#d8576b"
             ],
             [
              0.6666666666666666,
              "#ed7953"
             ],
             [
              0.7777777777777778,
              "#fb9f3a"
             ],
             [
              0.8888888888888888,
              "#fdca26"
             ],
             [
              1,
              "#f0f921"
             ]
            ],
            "type": "histogram2dcontour"
           }
          ],
          "mesh3d": [
           {
            "colorbar": {
             "outlinewidth": 0,
             "ticks": ""
            },
            "type": "mesh3d"
           }
          ],
          "parcoords": [
           {
            "line": {
             "colorbar": {
              "outlinewidth": 0,
              "ticks": ""
             }
            },
            "type": "parcoords"
           }
          ],
          "pie": [
           {
            "automargin": true,
            "type": "pie"
           }
          ],
          "scatter": [
           {
            "fillpattern": {
             "fillmode": "overlay",
             "size": 10,
             "solidity": 0.2
            },
            "type": "scatter"
           }
          ],
          "scatter3d": [
           {
            "line": {
             "colorbar": {
              "outlinewidth": 0,
              "ticks": ""
             }
            },
            "marker": {
             "colorbar": {
              "outlinewidth": 0,
              "ticks": ""
             }
            },
            "type": "scatter3d"
           }
          ],
          "scattercarpet": [
           {
            "marker": {
             "colorbar": {
              "outlinewidth": 0,
              "ticks": ""
             }
            },
            "type": "scattercarpet"
           }
          ],
          "scattergeo": [
           {
            "marker": {
             "colorbar": {
              "outlinewidth": 0,
              "ticks": ""
             }
            },
            "type": "scattergeo"
           }
          ],
          "scattergl": [
           {
            "marker": {
             "colorbar": {
              "outlinewidth": 0,
              "ticks": ""
             }
            },
            "type": "scattergl"
           }
          ],
          "scattermapbox": [
           {
            "marker": {
             "colorbar": {
              "outlinewidth": 0,
              "ticks": ""
             }
            },
            "type": "scattermapbox"
           }
          ],
          "scatterpolar": [
           {
            "marker": {
             "colorbar": {
              "outlinewidth": 0,
              "ticks": ""
             }
            },
            "type": "scatterpolar"
           }
          ],
          "scatterpolargl": [
           {
            "marker": {
             "colorbar": {
              "outlinewidth": 0,
              "ticks": ""
             }
            },
            "type": "scatterpolargl"
           }
          ],
          "scatterternary": [
           {
            "marker": {
             "colorbar": {
              "outlinewidth": 0,
              "ticks": ""
             }
            },
            "type": "scatterternary"
           }
          ],
          "surface": [
           {
            "colorbar": {
             "outlinewidth": 0,
             "ticks": ""
            },
            "colorscale": [
             [
              0,
              "#0d0887"
             ],
             [
              0.1111111111111111,
              "#46039f"
             ],
             [
              0.2222222222222222,
              "#7201a8"
             ],
             [
              0.3333333333333333,
              "#9c179e"
             ],
             [
              0.4444444444444444,
              "#bd3786"
             ],
             [
              0.5555555555555556,
              "#d8576b"
             ],
             [
              0.6666666666666666,
              "#ed7953"
             ],
             [
              0.7777777777777778,
              "#fb9f3a"
             ],
             [
              0.8888888888888888,
              "#fdca26"
             ],
             [
              1,
              "#f0f921"
             ]
            ],
            "type": "surface"
           }
          ],
          "table": [
           {
            "cells": {
             "fill": {
              "color": "#EBF0F8"
             },
             "line": {
              "color": "white"
             }
            },
            "header": {
             "fill": {
              "color": "#C8D4E3"
             },
             "line": {
              "color": "white"
             }
            },
            "type": "table"
           }
          ]
         },
         "layout": {
          "annotationdefaults": {
           "arrowcolor": "#2a3f5f",
           "arrowhead": 0,
           "arrowwidth": 1
          },
          "autotypenumbers": "strict",
          "coloraxis": {
           "colorbar": {
            "outlinewidth": 0,
            "ticks": ""
           }
          },
          "colorscale": {
           "diverging": [
            [
             0,
             "#8e0152"
            ],
            [
             0.1,
             "#c51b7d"
            ],
            [
             0.2,
             "#de77ae"
            ],
            [
             0.3,
             "#f1b6da"
            ],
            [
             0.4,
             "#fde0ef"
            ],
            [
             0.5,
             "#f7f7f7"
            ],
            [
             0.6,
             "#e6f5d0"
            ],
            [
             0.7,
             "#b8e186"
            ],
            [
             0.8,
             "#7fbc41"
            ],
            [
             0.9,
             "#4d9221"
            ],
            [
             1,
             "#276419"
            ]
           ],
           "sequential": [
            [
             0,
             "#0d0887"
            ],
            [
             0.1111111111111111,
             "#46039f"
            ],
            [
             0.2222222222222222,
             "#7201a8"
            ],
            [
             0.3333333333333333,
             "#9c179e"
            ],
            [
             0.4444444444444444,
             "#bd3786"
            ],
            [
             0.5555555555555556,
             "#d8576b"
            ],
            [
             0.6666666666666666,
             "#ed7953"
            ],
            [
             0.7777777777777778,
             "#fb9f3a"
            ],
            [
             0.8888888888888888,
             "#fdca26"
            ],
            [
             1,
             "#f0f921"
            ]
           ],
           "sequentialminus": [
            [
             0,
             "#0d0887"
            ],
            [
             0.1111111111111111,
             "#46039f"
            ],
            [
             0.2222222222222222,
             "#7201a8"
            ],
            [
             0.3333333333333333,
             "#9c179e"
            ],
            [
             0.4444444444444444,
             "#bd3786"
            ],
            [
             0.5555555555555556,
             "#d8576b"
            ],
            [
             0.6666666666666666,
             "#ed7953"
            ],
            [
             0.7777777777777778,
             "#fb9f3a"
            ],
            [
             0.8888888888888888,
             "#fdca26"
            ],
            [
             1,
             "#f0f921"
            ]
           ]
          },
          "colorway": [
           "#636efa",
           "#EF553B",
           "#00cc96",
           "#ab63fa",
           "#FFA15A",
           "#19d3f3",
           "#FF6692",
           "#B6E880",
           "#FF97FF",
           "#FECB52"
          ],
          "font": {
           "color": "#2a3f5f"
          },
          "geo": {
           "bgcolor": "white",
           "lakecolor": "white",
           "landcolor": "white",
           "showlakes": true,
           "showland": true,
           "subunitcolor": "#C8D4E3"
          },
          "hoverlabel": {
           "align": "left"
          },
          "hovermode": "closest",
          "mapbox": {
           "style": "light"
          },
          "paper_bgcolor": "white",
          "plot_bgcolor": "white",
          "polar": {
           "angularaxis": {
            "gridcolor": "#EBF0F8",
            "linecolor": "#EBF0F8",
            "ticks": ""
           },
           "bgcolor": "white",
           "radialaxis": {
            "gridcolor": "#EBF0F8",
            "linecolor": "#EBF0F8",
            "ticks": ""
           }
          },
          "scene": {
           "xaxis": {
            "backgroundcolor": "white",
            "gridcolor": "#DFE8F3",
            "gridwidth": 2,
            "linecolor": "#EBF0F8",
            "showbackground": true,
            "ticks": "",
            "zerolinecolor": "#EBF0F8"
           },
           "yaxis": {
            "backgroundcolor": "white",
            "gridcolor": "#DFE8F3",
            "gridwidth": 2,
            "linecolor": "#EBF0F8",
            "showbackground": true,
            "ticks": "",
            "zerolinecolor": "#EBF0F8"
           },
           "zaxis": {
            "backgroundcolor": "white",
            "gridcolor": "#DFE8F3",
            "gridwidth": 2,
            "linecolor": "#EBF0F8",
            "showbackground": true,
            "ticks": "",
            "zerolinecolor": "#EBF0F8"
           }
          },
          "shapedefaults": {
           "line": {
            "color": "#2a3f5f"
           }
          },
          "ternary": {
           "aaxis": {
            "gridcolor": "#DFE8F3",
            "linecolor": "#A2B1C6",
            "ticks": ""
           },
           "baxis": {
            "gridcolor": "#DFE8F3",
            "linecolor": "#A2B1C6",
            "ticks": ""
           },
           "bgcolor": "white",
           "caxis": {
            "gridcolor": "#DFE8F3",
            "linecolor": "#A2B1C6",
            "ticks": ""
           }
          },
          "title": {
           "x": 0.05
          },
          "xaxis": {
           "automargin": true,
           "gridcolor": "#EBF0F8",
           "linecolor": "#EBF0F8",
           "ticks": "",
           "title": {
            "standoff": 15
           },
           "zerolinecolor": "#EBF0F8",
           "zerolinewidth": 2
          },
          "yaxis": {
           "automargin": true,
           "gridcolor": "#EBF0F8",
           "linecolor": "#EBF0F8",
           "ticks": "",
           "title": {
            "standoff": 15
           },
           "zerolinecolor": "#EBF0F8",
           "zerolinewidth": 2
          }
         }
        },
        "title": {
         "text": "Training Accuracy of LSTM, GRU, and BiLSTM Models"
        },
        "xaxis": {
         "title": {
          "text": "Epochs"
         }
        },
        "yaxis": {
         "title": {
          "text": "Accuracy"
         }
        }
       }
      }
     },
     "metadata": {},
     "output_type": "display_data"
    }
   ],
   "source": [
    "import plotly.graph_objects as go\n",
    "\n",
    "# Create a figure object\n",
    "fig_accuracy = go.Figure()\n",
    "\n",
    "# Add LSTM training accuracy trace\n",
    "fig_accuracy.add_trace(go.Scatter(\n",
    "    y=accuracy_train_log,  # Training accuracy data for LSTM\n",
    "    mode='lines+markers',    # Use both lines and markers\n",
    "    name='LSTM Training Accuracy',  # Trace name\n",
    "    line=dict(color='red', width=2),  # Line color and width\n",
    "    marker=dict(color='red', size=8)  # Marker settings\n",
    "))\n",
    "\n",
    "# Add GRU training accuracy trace\n",
    "fig_accuracy.add_trace(go.Scatter(\n",
    "    y=accuracy_train_gru,   # Training accuracy data for GRU\n",
    "    mode='lines+markers',    # Use both lines and markers\n",
    "    name='GRU Training Accuracy',  # Trace name\n",
    "    line=dict(color='green', width=2),  # Line color and width\n",
    "    marker=dict(color='green', size=8)  # Marker settings\n",
    "))\n",
    "\n",
    "# Add BiLSTM training accuracy trace\n",
    "fig_accuracy.add_trace(go.Scatter(\n",
    "    y=accuracy_train_bilstm,  # Training accuracy data for BiLSTM\n",
    "    mode='lines+markers',    # Use both lines and markers\n",
    "    name='BiLSTM Training Accuracy',  # Trace name\n",
    "    line=dict(color='blue', width=2),  # Line color and width\n",
    "    marker=dict(color='blue', size=8)  # Marker settings\n",
    "))\n",
    "\n",
    "# Update the layout to add titles and labels\n",
    "fig_accuracy.update_layout(\n",
    "    title='Training Accuracy of LSTM, GRU, and BiLSTM Models',\n",
    "    xaxis_title='Epochs',\n",
    "    yaxis_title='Accuracy',\n",
    "    legend_title='Model Type',\n",
    "    template='plotly_white'  # Use a simple, clean template\n",
    ")\n",
    "\n",
    "# Display the figure\n",
    "fig_accuracy.show()\n"
   ]
  },
  {
   "cell_type": "code",
   "execution_count": 32,
   "metadata": {},
   "outputs": [
    {
     "data": {
      "text/plain": [
       "[0.14492753623188406,\n",
       " 0.30869565217391304,\n",
       " 0.6115942028985507,\n",
       " 0.6768115942028986,\n",
       " 0.7434782608695653,\n",
       " 0.7971014492753623,\n",
       " 0.8115942028985508,\n",
       " 0.8333333333333334,\n",
       " 0.8463768115942029,\n",
       " 0.8536231884057971,\n",
       " 0.855072463768116,\n",
       " 0.8565217391304348,\n",
       " 0.8565217391304348,\n",
       " 0.8565217391304348,\n",
       " 0.855072463768116,\n",
       " 0.855072463768116,\n",
       " 0.855072463768116,\n",
       " 0.8565217391304348,\n",
       " 0.8565217391304348,\n",
       " 0.855072463768116]"
      ]
     },
     "execution_count": 32,
     "metadata": {},
     "output_type": "execute_result"
    }
   ],
   "source": [
    "final_acc_test_gru"
   ]
  },
  {
   "cell_type": "code",
   "execution_count": 28,
   "metadata": {},
   "outputs": [
    {
     "data": {
      "application/vnd.plotly.v1+json": {
       "config": {
        "plotlyServerURL": "https://plot.ly"
       },
       "data": [
        {
         "line": {
          "color": "purple",
          "width": 2
         },
         "marker": {
          "color": "purple",
          "size": 8
         },
         "mode": "lines+markers",
         "name": "LSTM Testing Accuracy",
         "type": "scatter",
         "y": [
          0.06956521739130435,
          0.1492753623188406,
          0.2,
          0.28695652173913044,
          0.3115942028985507,
          0.4260869565217391,
          0.4971014492753623,
          0.508695652173913,
          0.5565217391304348,
          0.5405797101449276,
          0.5681159420289855,
          0.5942028985507246,
          0.5927536231884057,
          0.6275362318840579,
          0.6333333333333333,
          0.6463768115942029,
          0.6202898550724638,
          0.644927536231884,
          0.6217391304347826,
          0.636231884057971
         ]
        },
        {
         "line": {
          "color": "orange",
          "width": 2
         },
         "marker": {
          "color": "orange",
          "size": 8
         },
         "mode": "lines+markers",
         "name": "GRU Testing Accuracy",
         "type": "scatter",
         "y": [
          0.14492753623188406,
          0.30869565217391304,
          0.6115942028985507,
          0.6768115942028986,
          0.7434782608695653,
          0.7971014492753623,
          0.8115942028985508,
          0.8333333333333334,
          0.8463768115942029,
          0.8536231884057971,
          0.855072463768116,
          0.8565217391304348,
          0.8565217391304348,
          0.8565217391304348,
          0.855072463768116,
          0.855072463768116,
          0.855072463768116,
          0.8565217391304348,
          0.8565217391304348,
          0.855072463768116
         ]
        },
        {
         "line": {
          "color": "teal",
          "width": 2
         },
         "marker": {
          "color": "teal",
          "size": 8
         },
         "mode": "lines+markers",
         "name": "BiLSTM Testing Accuracy",
         "type": "scatter",
         "y": [
          0.1,
          0.08260869565217391,
          0.19710144927536233,
          0.28840579710144926,
          0.4115942028985507,
          0.45217391304347826,
          0.48840579710144927,
          0.5478260869565217,
          0.5318840579710145,
          0.5768115942028985,
          0.5768115942028985,
          0.5753623188405798,
          0.6043478260869565,
          0.5855072463768116,
          0.5869565217391305,
          0.5884057971014492,
          0.5797101449275363,
          0.6,
          0.5869565217391305,
          0.6173913043478261
         ]
        },
        {
         "line": {
          "color": "red",
          "width": 2
         },
         "marker": {
          "color": "red",
          "size": 8
         },
         "mode": "lines+markers",
         "name": "Transformer Testing Accuracy",
         "type": "scatter",
         "y": [
          0.7043,
          0.7978,
          0.8283,
          0.8696,
          0.8826,
          0.8652,
          0.8652,
          0.8717,
          0.8717,
          0.8696,
          0.8696,
          0.8717,
          0.8717,
          0.8717,
          0.8717,
          0.8717,
          0.8717,
          0.8717,
          0.8696,
          0.8717
         ]
        }
       ],
       "layout": {
        "legend": {
         "title": {
          "text": "Model Type"
         }
        },
        "template": {
         "data": {
          "bar": [
           {
            "error_x": {
             "color": "#2a3f5f"
            },
            "error_y": {
             "color": "#2a3f5f"
            },
            "marker": {
             "line": {
              "color": "white",
              "width": 0.5
             },
             "pattern": {
              "fillmode": "overlay",
              "size": 10,
              "solidity": 0.2
             }
            },
            "type": "bar"
           }
          ],
          "barpolar": [
           {
            "marker": {
             "line": {
              "color": "white",
              "width": 0.5
             },
             "pattern": {
              "fillmode": "overlay",
              "size": 10,
              "solidity": 0.2
             }
            },
            "type": "barpolar"
           }
          ],
          "carpet": [
           {
            "aaxis": {
             "endlinecolor": "#2a3f5f",
             "gridcolor": "#C8D4E3",
             "linecolor": "#C8D4E3",
             "minorgridcolor": "#C8D4E3",
             "startlinecolor": "#2a3f5f"
            },
            "baxis": {
             "endlinecolor": "#2a3f5f",
             "gridcolor": "#C8D4E3",
             "linecolor": "#C8D4E3",
             "minorgridcolor": "#C8D4E3",
             "startlinecolor": "#2a3f5f"
            },
            "type": "carpet"
           }
          ],
          "choropleth": [
           {
            "colorbar": {
             "outlinewidth": 0,
             "ticks": ""
            },
            "type": "choropleth"
           }
          ],
          "contour": [
           {
            "colorbar": {
             "outlinewidth": 0,
             "ticks": ""
            },
            "colorscale": [
             [
              0,
              "#0d0887"
             ],
             [
              0.1111111111111111,
              "#46039f"
             ],
             [
              0.2222222222222222,
              "#7201a8"
             ],
             [
              0.3333333333333333,
              "#9c179e"
             ],
             [
              0.4444444444444444,
              "#bd3786"
             ],
             [
              0.5555555555555556,
              "#d8576b"
             ],
             [
              0.6666666666666666,
              "#ed7953"
             ],
             [
              0.7777777777777778,
              "#fb9f3a"
             ],
             [
              0.8888888888888888,
              "#fdca26"
             ],
             [
              1,
              "#f0f921"
             ]
            ],
            "type": "contour"
           }
          ],
          "contourcarpet": [
           {
            "colorbar": {
             "outlinewidth": 0,
             "ticks": ""
            },
            "type": "contourcarpet"
           }
          ],
          "heatmap": [
           {
            "colorbar": {
             "outlinewidth": 0,
             "ticks": ""
            },
            "colorscale": [
             [
              0,
              "#0d0887"
             ],
             [
              0.1111111111111111,
              "#46039f"
             ],
             [
              0.2222222222222222,
              "#7201a8"
             ],
             [
              0.3333333333333333,
              "#9c179e"
             ],
             [
              0.4444444444444444,
              "#bd3786"
             ],
             [
              0.5555555555555556,
              "#d8576b"
             ],
             [
              0.6666666666666666,
              "#ed7953"
             ],
             [
              0.7777777777777778,
              "#fb9f3a"
             ],
             [
              0.8888888888888888,
              "#fdca26"
             ],
             [
              1,
              "#f0f921"
             ]
            ],
            "type": "heatmap"
           }
          ],
          "heatmapgl": [
           {
            "colorbar": {
             "outlinewidth": 0,
             "ticks": ""
            },
            "colorscale": [
             [
              0,
              "#0d0887"
             ],
             [
              0.1111111111111111,
              "#46039f"
             ],
             [
              0.2222222222222222,
              "#7201a8"
             ],
             [
              0.3333333333333333,
              "#9c179e"
             ],
             [
              0.4444444444444444,
              "#bd3786"
             ],
             [
              0.5555555555555556,
              "#d8576b"
             ],
             [
              0.6666666666666666,
              "#ed7953"
             ],
             [
              0.7777777777777778,
              "#fb9f3a"
             ],
             [
              0.8888888888888888,
              "#fdca26"
             ],
             [
              1,
              "#f0f921"
             ]
            ],
            "type": "heatmapgl"
           }
          ],
          "histogram": [
           {
            "marker": {
             "pattern": {
              "fillmode": "overlay",
              "size": 10,
              "solidity": 0.2
             }
            },
            "type": "histogram"
           }
          ],
          "histogram2d": [
           {
            "colorbar": {
             "outlinewidth": 0,
             "ticks": ""
            },
            "colorscale": [
             [
              0,
              "#0d0887"
             ],
             [
              0.1111111111111111,
              "#46039f"
             ],
             [
              0.2222222222222222,
              "#7201a8"
             ],
             [
              0.3333333333333333,
              "#9c179e"
             ],
             [
              0.4444444444444444,
              "#bd3786"
             ],
             [
              0.5555555555555556,
              "#d8576b"
             ],
             [
              0.6666666666666666,
              "#ed7953"
             ],
             [
              0.7777777777777778,
              "#fb9f3a"
             ],
             [
              0.8888888888888888,
              "#fdca26"
             ],
             [
              1,
              "#f0f921"
             ]
            ],
            "type": "histogram2d"
           }
          ],
          "histogram2dcontour": [
           {
            "colorbar": {
             "outlinewidth": 0,
             "ticks": ""
            },
            "colorscale": [
             [
              0,
              "#0d0887"
             ],
             [
              0.1111111111111111,
              "#46039f"
             ],
             [
              0.2222222222222222,
              "#7201a8"
             ],
             [
              0.3333333333333333,
              "#9c179e"
             ],
             [
              0.4444444444444444,
              "#bd3786"
             ],
             [
              0.5555555555555556,
              "#d8576b"
             ],
             [
              0.6666666666666666,
              "#ed7953"
             ],
             [
              0.7777777777777778,
              "#fb9f3a"
             ],
             [
              0.8888888888888888,
              "#fdca26"
             ],
             [
              1,
              "#f0f921"
             ]
            ],
            "type": "histogram2dcontour"
           }
          ],
          "mesh3d": [
           {
            "colorbar": {
             "outlinewidth": 0,
             "ticks": ""
            },
            "type": "mesh3d"
           }
          ],
          "parcoords": [
           {
            "line": {
             "colorbar": {
              "outlinewidth": 0,
              "ticks": ""
             }
            },
            "type": "parcoords"
           }
          ],
          "pie": [
           {
            "automargin": true,
            "type": "pie"
           }
          ],
          "scatter": [
           {
            "fillpattern": {
             "fillmode": "overlay",
             "size": 10,
             "solidity": 0.2
            },
            "type": "scatter"
           }
          ],
          "scatter3d": [
           {
            "line": {
             "colorbar": {
              "outlinewidth": 0,
              "ticks": ""
             }
            },
            "marker": {
             "colorbar": {
              "outlinewidth": 0,
              "ticks": ""
             }
            },
            "type": "scatter3d"
           }
          ],
          "scattercarpet": [
           {
            "marker": {
             "colorbar": {
              "outlinewidth": 0,
              "ticks": ""
             }
            },
            "type": "scattercarpet"
           }
          ],
          "scattergeo": [
           {
            "marker": {
             "colorbar": {
              "outlinewidth": 0,
              "ticks": ""
             }
            },
            "type": "scattergeo"
           }
          ],
          "scattergl": [
           {
            "marker": {
             "colorbar": {
              "outlinewidth": 0,
              "ticks": ""
             }
            },
            "type": "scattergl"
           }
          ],
          "scattermapbox": [
           {
            "marker": {
             "colorbar": {
              "outlinewidth": 0,
              "ticks": ""
             }
            },
            "type": "scattermapbox"
           }
          ],
          "scatterpolar": [
           {
            "marker": {
             "colorbar": {
              "outlinewidth": 0,
              "ticks": ""
             }
            },
            "type": "scatterpolar"
           }
          ],
          "scatterpolargl": [
           {
            "marker": {
             "colorbar": {
              "outlinewidth": 0,
              "ticks": ""
             }
            },
            "type": "scatterpolargl"
           }
          ],
          "scatterternary": [
           {
            "marker": {
             "colorbar": {
              "outlinewidth": 0,
              "ticks": ""
             }
            },
            "type": "scatterternary"
           }
          ],
          "surface": [
           {
            "colorbar": {
             "outlinewidth": 0,
             "ticks": ""
            },
            "colorscale": [
             [
              0,
              "#0d0887"
             ],
             [
              0.1111111111111111,
              "#46039f"
             ],
             [
              0.2222222222222222,
              "#7201a8"
             ],
             [
              0.3333333333333333,
              "#9c179e"
             ],
             [
              0.4444444444444444,
              "#bd3786"
             ],
             [
              0.5555555555555556,
              "#d8576b"
             ],
             [
              0.6666666666666666,
              "#ed7953"
             ],
             [
              0.7777777777777778,
              "#fb9f3a"
             ],
             [
              0.8888888888888888,
              "#fdca26"
             ],
             [
              1,
              "#f0f921"
             ]
            ],
            "type": "surface"
           }
          ],
          "table": [
           {
            "cells": {
             "fill": {
              "color": "#EBF0F8"
             },
             "line": {
              "color": "white"
             }
            },
            "header": {
             "fill": {
              "color": "#C8D4E3"
             },
             "line": {
              "color": "white"
             }
            },
            "type": "table"
           }
          ]
         },
         "layout": {
          "annotationdefaults": {
           "arrowcolor": "#2a3f5f",
           "arrowhead": 0,
           "arrowwidth": 1
          },
          "autotypenumbers": "strict",
          "coloraxis": {
           "colorbar": {
            "outlinewidth": 0,
            "ticks": ""
           }
          },
          "colorscale": {
           "diverging": [
            [
             0,
             "#8e0152"
            ],
            [
             0.1,
             "#c51b7d"
            ],
            [
             0.2,
             "#de77ae"
            ],
            [
             0.3,
             "#f1b6da"
            ],
            [
             0.4,
             "#fde0ef"
            ],
            [
             0.5,
             "#f7f7f7"
            ],
            [
             0.6,
             "#e6f5d0"
            ],
            [
             0.7,
             "#b8e186"
            ],
            [
             0.8,
             "#7fbc41"
            ],
            [
             0.9,
             "#4d9221"
            ],
            [
             1,
             "#276419"
            ]
           ],
           "sequential": [
            [
             0,
             "#0d0887"
            ],
            [
             0.1111111111111111,
             "#46039f"
            ],
            [
             0.2222222222222222,
             "#7201a8"
            ],
            [
             0.3333333333333333,
             "#9c179e"
            ],
            [
             0.4444444444444444,
             "#bd3786"
            ],
            [
             0.5555555555555556,
             "#d8576b"
            ],
            [
             0.6666666666666666,
             "#ed7953"
            ],
            [
             0.7777777777777778,
             "#fb9f3a"
            ],
            [
             0.8888888888888888,
             "#fdca26"
            ],
            [
             1,
             "#f0f921"
            ]
           ],
           "sequentialminus": [
            [
             0,
             "#0d0887"
            ],
            [
             0.1111111111111111,
             "#46039f"
            ],
            [
             0.2222222222222222,
             "#7201a8"
            ],
            [
             0.3333333333333333,
             "#9c179e"
            ],
            [
             0.4444444444444444,
             "#bd3786"
            ],
            [
             0.5555555555555556,
             "#d8576b"
            ],
            [
             0.6666666666666666,
             "#ed7953"
            ],
            [
             0.7777777777777778,
             "#fb9f3a"
            ],
            [
             0.8888888888888888,
             "#fdca26"
            ],
            [
             1,
             "#f0f921"
            ]
           ]
          },
          "colorway": [
           "#636efa",
           "#EF553B",
           "#00cc96",
           "#ab63fa",
           "#FFA15A",
           "#19d3f3",
           "#FF6692",
           "#B6E880",
           "#FF97FF",
           "#FECB52"
          ],
          "font": {
           "color": "#2a3f5f"
          },
          "geo": {
           "bgcolor": "white",
           "lakecolor": "white",
           "landcolor": "white",
           "showlakes": true,
           "showland": true,
           "subunitcolor": "#C8D4E3"
          },
          "hoverlabel": {
           "align": "left"
          },
          "hovermode": "closest",
          "mapbox": {
           "style": "light"
          },
          "paper_bgcolor": "white",
          "plot_bgcolor": "white",
          "polar": {
           "angularaxis": {
            "gridcolor": "#EBF0F8",
            "linecolor": "#EBF0F8",
            "ticks": ""
           },
           "bgcolor": "white",
           "radialaxis": {
            "gridcolor": "#EBF0F8",
            "linecolor": "#EBF0F8",
            "ticks": ""
           }
          },
          "scene": {
           "xaxis": {
            "backgroundcolor": "white",
            "gridcolor": "#DFE8F3",
            "gridwidth": 2,
            "linecolor": "#EBF0F8",
            "showbackground": true,
            "ticks": "",
            "zerolinecolor": "#EBF0F8"
           },
           "yaxis": {
            "backgroundcolor": "white",
            "gridcolor": "#DFE8F3",
            "gridwidth": 2,
            "linecolor": "#EBF0F8",
            "showbackground": true,
            "ticks": "",
            "zerolinecolor": "#EBF0F8"
           },
           "zaxis": {
            "backgroundcolor": "white",
            "gridcolor": "#DFE8F3",
            "gridwidth": 2,
            "linecolor": "#EBF0F8",
            "showbackground": true,
            "ticks": "",
            "zerolinecolor": "#EBF0F8"
           }
          },
          "shapedefaults": {
           "line": {
            "color": "#2a3f5f"
           }
          },
          "ternary": {
           "aaxis": {
            "gridcolor": "#DFE8F3",
            "linecolor": "#A2B1C6",
            "ticks": ""
           },
           "baxis": {
            "gridcolor": "#DFE8F3",
            "linecolor": "#A2B1C6",
            "ticks": ""
           },
           "bgcolor": "white",
           "caxis": {
            "gridcolor": "#DFE8F3",
            "linecolor": "#A2B1C6",
            "ticks": ""
           }
          },
          "title": {
           "x": 0.05
          },
          "xaxis": {
           "automargin": true,
           "gridcolor": "#EBF0F8",
           "linecolor": "#EBF0F8",
           "ticks": "",
           "title": {
            "standoff": 15
           },
           "zerolinecolor": "#EBF0F8",
           "zerolinewidth": 2
          },
          "yaxis": {
           "automargin": true,
           "gridcolor": "#EBF0F8",
           "linecolor": "#EBF0F8",
           "ticks": "",
           "title": {
            "standoff": 15
           },
           "zerolinecolor": "#EBF0F8",
           "zerolinewidth": 2
          }
         }
        },
        "title": {
         "text": "Testing Accuracy of LSTM, GRU, and BiLSTM Models"
        },
        "xaxis": {
         "title": {
          "text": "Epochs"
         }
        },
        "yaxis": {
         "title": {
          "text": "Accuracy"
         }
        }
       }
      }
     },
     "metadata": {},
     "output_type": "display_data"
    }
   ],
   "source": [
    "import plotly.graph_objects as go\n",
    "\n",
    "# Create a figure object\n",
    "fig_accuracy = go.Figure()\n",
    "\n",
    "Transformer_accuracies = [\n",
    "    0.7043, 0.7978, 0.8283, 0.8696, 0.8826,\n",
    "    0.8652, 0.8652, 0.8717, 0.8717, 0.8696,\n",
    "    0.8696, 0.8717, 0.8717, 0.8717, 0.8717,\n",
    "    0.8717, 0.8717, 0.8717, 0.8696, 0.8717\n",
    "]\n",
    "\n",
    "# Add LSTM testing accuracy trace\n",
    "fig_accuracy.add_trace(go.Scatter(\n",
    "    y=accuracy_test_log,  # Testing accuracy data for LSTM\n",
    "    mode='lines+markers',  # Use both lines and markers\n",
    "    name='LSTM Testing Accuracy',  # Trace name\n",
    "    line=dict(color='purple', width=2),  # Purple color for LSTM line\n",
    "    marker=dict(color='purple', size=8)  # Purple markers\n",
    "))\n",
    "\n",
    "# Add GRU testing accuracy trace\n",
    "fig_accuracy.add_trace(go.Scatter(\n",
    "    y=accuracy_test_gru,  # Testing accuracy data for GRU\n",
    "    mode='lines+markers',  # Use both lines and markers\n",
    "    name='GRU Testing Accuracy',  # Trace name\n",
    "    line=dict(color='orange', width=2),  # Orange color for GRU line\n",
    "    marker=dict(color='orange', size=8)  # Orange markers\n",
    "))\n",
    "\n",
    "# Add BiLSTM testing accuracy trace\n",
    "fig_accuracy.add_trace(go.Scatter(\n",
    "    y=accuracy_test_bilstm,  # Testing accuracy data for BiLSTM\n",
    "    mode='lines+markers',  # Use both lines and markers\n",
    "    name='BiLSTM Testing Accuracy',  # Trace name\n",
    "    line=dict(color='teal', width=2),  # Teal color for BiLSTM line\n",
    "    marker=dict(color='teal', size=8)  # Teal markers\n",
    "))\n",
    "\n",
    "# Add Transformer testing accuracy trace\n",
    "fig_accuracy.add_trace(go.Scatter(\n",
    "    y=Transformer_accuracies,  # Testing accuracy data for Transformer\n",
    "    mode='lines+markers',  # Use both lines and markers\n",
    "    name='Transformer Testing Accuracy',  # Trace name\n",
    "    line=dict(color='red', width=2),  # Red color for Transformer line\n",
    "    marker=dict(color='red', size=8)  # Red markers\n",
    "))\n",
    "\n",
    "# Update the layout to add titles and labels\n",
    "fig_accuracy.update_layout(\n",
    "    title='Testing Accuracy of LSTM, GRU, BiLSTM, and Transformer Models',\n",
    "    xaxis_title='Epochs',\n",
    "    yaxis_title='Accuracy',\n",
    "    legend_title='Model Type',\n",
    "    template='plotly_white'  # Use a simple, clean template\n",
    ")\n",
    "\n",
    "# Display the figure\n",
    "fig_accuracy.show()\n",
    "\n"
   ]
  },
  {
   "cell_type": "code",
   "execution_count": 63,
   "metadata": {},
   "outputs": [],
   "source": [
    "import torch\n",
    "\n",
    "# Assume 'model' is your trained model.\n",
    "torch.save(model_lstm.state_dict(), 'lstm.pth')\n"
   ]
  },
  {
   "cell_type": "code",
   "execution_count": 64,
   "metadata": {},
   "outputs": [],
   "source": [
    "torch.save(model_bilstm.state_dict(), 'bilstm.pth')\n"
   ]
  },
  {
   "cell_type": "code",
   "execution_count": 65,
   "metadata": {},
   "outputs": [],
   "source": [
    "torch.save(model_gru.state_dict(),'gru.pth')"
   ]
  },
  {
   "cell_type": "code",
   "execution_count": null,
   "metadata": {},
   "outputs": [],
   "source": []
  },
  {
   "cell_type": "code",
   "execution_count": 94,
   "metadata": {},
   "outputs": [],
   "source": [
    "text = \"\"\"\n",
    "The most merciful thing in the world, I think, is the inability of the human mind to correlate all its contents. We live on a placid island of ignorance in the midst of black seas of infinity, and it was not meant that we should voyage far. The sciences, each straining in its own direction, have hitherto harmed us little; but some day the piecing together of dissociated knowledge will open up such terrifying vistas of reality, and of our frightful position therein, that we shall either go mad from the revelation or flee from the deadly light into the peace and safety of a new dark age.\n",
    "\n",
    "Theosophists have guessed at the awesome grandeur of the cosmic cycle wherein our world and human race form transient incidents. They have hinted at strange survivals in terms which would freeze the blood if not masked by a bland optimism. But it is not from them that there came the single glimpse of forbidden eons which chills me when I think of it and maddens me when I dream of it. That glimpse, like all dread glimpses of truth, flashed out from an accidental piecing together of separated things—in this case an old newspaper item and the notes of a dead professor. I hope that no one else will accomplish this piecing out; certainly, if I live, I shall never knowingly supply a link in so hideous a chain. I think that the professor, too, intended to keep silent regarding the part he knew, and that he would have destroyed his notes had not sudden death seized him.\n",
    "\n",
    "My knowledge of the thing began in the winter of 1926-27 with the death of my grand-uncle, George Gammell Angell, Professor Emeritus of Semitic languages in Brown University, Providence, Rhode Island. Professor Angell was widely known as an authority on ancient inscriptions, and had frequently been resorted to by the heads of prominent museums; so that his passing at the age of ninety-two may be recalled by many. Locally, interest was intensified by the obscurity of the cause of death. The professor had been stricken whilst returning from the Newport boat; falling suddenly, as witnesses said, after having been jostled by a nautical-looking negro who had come from one of the queer dark courts on the precipitous hillside which formed a short cut from the waterfront to the deceased's home in Williams Street. Physicians were unable to find any visible disorder, but concluded after perplexed debate that some obscure lesion of the heart, induced by the brisk ascent of so steep a hill by so elderly a man, was responsible for the end. At the time I saw no reason to dissent from this dictum, but latterly I am inclined to wonder—and more than wonder.\n",
    "\n",
    "\"\"\""
   ]
  },
  {
   "cell_type": "code",
   "execution_count": 104,
   "metadata": {},
   "outputs": [],
   "source": [
    "def predict_single_text(text, model, vocab, device):\n",
    "    model.eval()  # Set the model to evaluation mode\n",
    "    model.to(device)\n",
    "\n",
    "    # Tokenize the input text\n",
    "    tokenizer = get_tokenizer(\"spacy\", language=\"en_core_web_sm\")\n",
    "    tokens = tokenizer(text.lower())\n",
    "    indices = [vocab[token] if token in vocab else vocab['<unk>'] for token in tokens]\n",
    "\n",
    "    # Ensure indices are in the correct type (torch.LongTensor)\n",
    "    indices_tensor = torch.tensor(indices, dtype=torch.long).unsqueeze(0).to(device)\n",
    "\n",
    "    # Length of input sequence\n",
    "    lengths = torch.tensor([len(indices)], dtype=torch.long).to(device)\n",
    "\n",
    "    with torch.no_grad():\n",
    "        # Forward pass, ensure that the model and input are compatible\n",
    "        outputs = model(indices_tensor, lengths)\n",
    "        \n",
    "        # Check output dimension and adjust if necessary\n",
    "        if outputs.dim() == 1:\n",
    "            outputs = outputs.unsqueeze(0)\n",
    "\n",
    "        probabilities = torch.nn.functional.softmax(outputs, dim=1)\n",
    "        predicted_idx = torch.argmax(probabilities, dim=1).item()\n",
    "\n",
    "    # Return all class probabilities and the predicted class index\n",
    "    return  predicted_idx , probabilities.squeeze().tolist()\n",
    "\n"
   ]
  },
  {
   "cell_type": "code",
   "execution_count": 144,
   "metadata": {},
   "outputs": [],
   "source": [
    "import torch\n",
    "\n",
    "def predict(model, data_loader, device):\n",
    "    model.eval()  # Set the model to evaluation mode\n",
    "    all_probs = []\n",
    "    all_comment_lengths = []\n",
    "    \n",
    "    with torch.no_grad():  # No gradients are needed for making predictions\n",
    "        for comment, comment_lengths, _ in data_loader:\n",
    "            comment = comment.to(device)\n",
    "            comment_lengths = comment_lengths.to(device)\n",
    "            output = model(comment, comment_lengths)\n",
    "            probabilities = torch.nn.functional.softmax(output, dim=1)  # Apply softmax to convert logits to probabilities\n",
    "            all_probs.append(probabilities.cpu().numpy())  # Store probabilities\n",
    "            all_comment_lengths.extend(comment_lengths.cpu().numpy())  # Store lengths for any potential usage\n",
    "\n",
    "    return all_probs, all_comment_lengths\n",
    "\n",
    "\n",
    "\n",
    "all_preds_lstm, all_comment_lengths = predict(model_gru,total_loader,device)"
   ]
  },
  {
   "cell_type": "code",
   "execution_count": 145,
   "metadata": {},
   "outputs": [],
   "source": [
    "all_preds = all_preds_lstm\n",
    "all_preds2 = []\n",
    "for i in range(len(all_preds)): \n",
    "    for j in range(len(all_preds[i])): \n",
    "        all_preds2.append(all_preds[i][j])\n"
   ]
  },
  {
   "cell_type": "code",
   "execution_count": 146,
   "metadata": {},
   "outputs": [],
   "source": [
    "all_preds2 = np.array(all_preds2)"
   ]
  },
  {
   "cell_type": "code",
   "execution_count": 147,
   "metadata": {},
   "outputs": [],
   "source": [
    "np.savetxt('gru_prediction.csv',all_preds2, delimiter=',')"
   ]
  },
  {
   "cell_type": "code",
   "execution_count": null,
   "metadata": {},
   "outputs": [],
   "source": []
  }
 ],
 "metadata": {
  "kernelspec": {
   "display_name": "csci2470project1",
   "language": "python",
   "name": "python3"
  },
  "language_info": {
   "codemirror_mode": {
    "name": "ipython",
    "version": 3
   },
   "file_extension": ".py",
   "mimetype": "text/x-python",
   "name": "python",
   "nbconvert_exporter": "python",
   "pygments_lexer": "ipython3",
   "version": "3.8.19"
  }
 },
 "nbformat": 4,
 "nbformat_minor": 2
}
